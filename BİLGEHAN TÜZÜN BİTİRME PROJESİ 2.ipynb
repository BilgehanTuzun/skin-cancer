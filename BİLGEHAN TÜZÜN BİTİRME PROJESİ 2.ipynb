{
 "cells": [
  {
   "cell_type": "markdown",
   "id": "d7482718",
   "metadata": {
    "papermill": {
     "duration": 0.054682,
     "end_time": "2022-05-03T06:45:00.001876",
     "exception": false,
     "start_time": "2022-05-03T06:44:59.947194",
     "status": "completed"
    },
    "tags": []
   },
   "source": [
    "# Gerekli Paketleri İndirme     1\n"
   ]
  },
  {
   "cell_type": "code",
   "execution_count": 1,
   "id": "0fd2a547",
   "metadata": {
    "execution": {
     "iopub.execute_input": "2022-05-03T06:45:00.185187Z",
     "iopub.status.busy": "2022-05-03T06:45:00.184144Z",
     "iopub.status.idle": "2022-05-03T06:45:00.209373Z",
     "shell.execute_reply": "2022-05-03T06:45:00.210163Z",
     "shell.execute_reply.started": "2022-05-03T04:48:44.461590Z"
    },
    "papermill": {
     "duration": 0.153823,
     "end_time": "2022-05-03T06:45:00.210576",
     "exception": false,
     "start_time": "2022-05-03T06:45:00.056753",
     "status": "completed"
    },
    "tags": []
   },
   "outputs": [],
   "source": [
    "import warnings #Belirlenen uyarıların engellenmesi için gerekli olan modülü import etme.\n",
    "warnings.simplefilter(action=\"ignore\", category=FutureWarning)  #action=\"ignore\" bu uyarıları görüntülemez ve bastırır.\n",
    "warnings.simplefilter(action=\"ignore\", category=UserWarning)\n",
    "warnings.simplefilter(action=\"ignore\", category=RuntimeWarning)\n",
    "warnings.simplefilter(action='ignore', category=DeprecationWarning)"
   ]
  },
  {
   "cell_type": "code",
   "execution_count": 2,
   "id": "d9d89bff",
   "metadata": {
    "execution": {
     "iopub.execute_input": "2022-05-03T06:45:00.408586Z",
     "iopub.status.busy": "2022-05-03T06:45:00.407641Z",
     "iopub.status.idle": "2022-05-03T06:45:11.235332Z",
     "shell.execute_reply": "2022-05-03T06:45:11.233918Z",
     "shell.execute_reply.started": "2022-05-03T04:48:44.545813Z"
    },
    "papermill": {
     "duration": 10.924137,
     "end_time": "2022-05-03T06:45:11.235578",
     "exception": false,
     "start_time": "2022-05-03T06:45:00.311441",
     "status": "completed"
    },
    "tags": []
   },
   "outputs": [
    {
     "name": "stdout",
     "output_type": "stream",
     "text": [
      "Requirement already satisfied: plotly in c:\\users\\bilgehan\\anaconda3\\lib\\site-packages (5.9.0)\n",
      "Requirement already satisfied: tenacity>=6.2.0 in c:\\users\\bilgehan\\anaconda3\\lib\\site-packages (from plotly) (8.2.2)\n",
      "Requirement already satisfied: pandas in c:\\users\\bilgehan\\anaconda3\\lib\\site-packages (2.0.3)\n",
      "Requirement already satisfied: python-dateutil>=2.8.2 in c:\\users\\bilgehan\\anaconda3\\lib\\site-packages (from pandas) (2.8.2)\n",
      "Requirement already satisfied: pytz>=2020.1 in c:\\users\\bilgehan\\anaconda3\\lib\\site-packages (from pandas) (2023.3.post1)\n",
      "Requirement already satisfied: tzdata>=2022.1 in c:\\users\\bilgehan\\anaconda3\\lib\\site-packages (from pandas) (2023.3)\n",
      "Requirement already satisfied: numpy>=1.21.0 in c:\\users\\bilgehan\\anaconda3\\lib\\site-packages (from pandas) (1.24.3)\n",
      "Requirement already satisfied: six>=1.5 in c:\\users\\bilgehan\\anaconda3\\lib\\site-packages (from python-dateutil>=2.8.2->pandas) (1.16.0)\n",
      "Requirement already satisfied: seaborn in c:\\users\\bilgehan\\anaconda3\\lib\\site-packages (0.12.2)\n",
      "Requirement already satisfied: numpy!=1.24.0,>=1.17 in c:\\users\\bilgehan\\anaconda3\\lib\\site-packages (from seaborn) (1.24.3)\n",
      "Requirement already satisfied: pandas>=0.25 in c:\\users\\bilgehan\\anaconda3\\lib\\site-packages (from seaborn) (2.0.3)\n",
      "Requirement already satisfied: matplotlib!=3.6.1,>=3.1 in c:\\users\\bilgehan\\anaconda3\\lib\\site-packages (from seaborn) (3.7.2)\n",
      "Requirement already satisfied: contourpy>=1.0.1 in c:\\users\\bilgehan\\anaconda3\\lib\\site-packages (from matplotlib!=3.6.1,>=3.1->seaborn) (1.0.5)\n",
      "Requirement already satisfied: cycler>=0.10 in c:\\users\\bilgehan\\anaconda3\\lib\\site-packages (from matplotlib!=3.6.1,>=3.1->seaborn) (0.11.0)\n",
      "Requirement already satisfied: fonttools>=4.22.0 in c:\\users\\bilgehan\\anaconda3\\lib\\site-packages (from matplotlib!=3.6.1,>=3.1->seaborn) (4.25.0)\n",
      "Requirement already satisfied: kiwisolver>=1.0.1 in c:\\users\\bilgehan\\anaconda3\\lib\\site-packages (from matplotlib!=3.6.1,>=3.1->seaborn) (1.4.4)\n",
      "Requirement already satisfied: packaging>=20.0 in c:\\users\\bilgehan\\anaconda3\\lib\\site-packages (from matplotlib!=3.6.1,>=3.1->seaborn) (23.1)\n",
      "Requirement already satisfied: pillow>=6.2.0 in c:\\users\\bilgehan\\anaconda3\\lib\\site-packages (from matplotlib!=3.6.1,>=3.1->seaborn) (9.4.0)\n",
      "Requirement already satisfied: pyparsing<3.1,>=2.3.1 in c:\\users\\bilgehan\\anaconda3\\lib\\site-packages (from matplotlib!=3.6.1,>=3.1->seaborn) (3.0.9)\n",
      "Requirement already satisfied: python-dateutil>=2.7 in c:\\users\\bilgehan\\anaconda3\\lib\\site-packages (from matplotlib!=3.6.1,>=3.1->seaborn) (2.8.2)\n",
      "Requirement already satisfied: pytz>=2020.1 in c:\\users\\bilgehan\\anaconda3\\lib\\site-packages (from pandas>=0.25->seaborn) (2023.3.post1)\n",
      "Requirement already satisfied: tzdata>=2022.1 in c:\\users\\bilgehan\\anaconda3\\lib\\site-packages (from pandas>=0.25->seaborn) (2023.3)\n",
      "Requirement already satisfied: six>=1.5 in c:\\users\\bilgehan\\anaconda3\\lib\\site-packages (from python-dateutil>=2.7->matplotlib!=3.6.1,>=3.1->seaborn) (1.16.0)\n",
      "Requirement already satisfied: scikit-learn in c:\\users\\bilgehan\\anaconda3\\lib\\site-packages (1.3.0)\n",
      "Requirement already satisfied: numpy>=1.17.3 in c:\\users\\bilgehan\\anaconda3\\lib\\site-packages (from scikit-learn) (1.24.3)\n",
      "Requirement already satisfied: scipy>=1.5.0 in c:\\users\\bilgehan\\anaconda3\\lib\\site-packages (from scikit-learn) (1.11.1)\n",
      "Requirement already satisfied: joblib>=1.1.1 in c:\\users\\bilgehan\\anaconda3\\lib\\site-packages (from scikit-learn) (1.2.0)\n",
      "Requirement already satisfied: threadpoolctl>=2.0.0 in c:\\users\\bilgehan\\anaconda3\\lib\\site-packages (from scikit-learn) (2.2.0)\n",
      "Requirement already satisfied: nbformat in c:\\users\\bilgehan\\anaconda3\\lib\\site-packages (5.9.2)\n",
      "Collecting nbformat\n",
      "  Obtaining dependency information for nbformat from https://files.pythonhosted.org/packages/a9/82/0340caa499416c78e5d8f5f05947ae4bc3cba53c9f038ab6e9ed964e22f1/nbformat-5.10.4-py3-none-any.whl.metadata\n",
      "  Downloading nbformat-5.10.4-py3-none-any.whl.metadata (3.6 kB)\n",
      "Requirement already satisfied: fastjsonschema>=2.15 in c:\\users\\bilgehan\\anaconda3\\lib\\site-packages (from nbformat) (2.16.2)\n",
      "Requirement already satisfied: jsonschema>=2.6 in c:\\users\\bilgehan\\anaconda3\\lib\\site-packages (from nbformat) (4.17.3)\n",
      "Requirement already satisfied: jupyter-core!=5.0.*,>=4.12 in c:\\users\\bilgehan\\anaconda3\\lib\\site-packages (from nbformat) (5.3.0)\n",
      "Requirement already satisfied: traitlets>=5.1 in c:\\users\\bilgehan\\anaconda3\\lib\\site-packages (from nbformat) (5.7.1)\n",
      "Requirement already satisfied: attrs>=17.4.0 in c:\\users\\bilgehan\\anaconda3\\lib\\site-packages (from jsonschema>=2.6->nbformat) (22.1.0)\n",
      "Requirement already satisfied: pyrsistent!=0.17.0,!=0.17.1,!=0.17.2,>=0.14.0 in c:\\users\\bilgehan\\anaconda3\\lib\\site-packages (from jsonschema>=2.6->nbformat) (0.18.0)\n",
      "Requirement already satisfied: platformdirs>=2.5 in c:\\users\\bilgehan\\anaconda3\\lib\\site-packages (from jupyter-core!=5.0.*,>=4.12->nbformat) (3.10.0)\n",
      "Requirement already satisfied: pywin32>=300 in c:\\users\\bilgehan\\anaconda3\\lib\\site-packages (from jupyter-core!=5.0.*,>=4.12->nbformat) (305.1)\n",
      "Downloading nbformat-5.10.4-py3-none-any.whl (78 kB)\n",
      "   ---------------------------------------- 0.0/78.5 kB ? eta -:--:--\n",
      "   ----- ---------------------------------- 10.2/78.5 kB ? eta -:--:--\n",
      "   --------------- ------------------------ 30.7/78.5 kB 1.3 MB/s eta 0:00:01\n",
      "   ---------------------------------------- 78.5/78.5 kB 1.1 MB/s eta 0:00:00\n",
      "Installing collected packages: nbformat\n",
      "  Attempting uninstall: nbformat\n",
      "    Found existing installation: nbformat 5.9.2\n",
      "    Uninstalling nbformat-5.9.2:\n",
      "      Successfully uninstalled nbformat-5.9.2\n",
      "Successfully installed nbformat-5.10.4\n"
     ]
    },
    {
     "name": "stderr",
     "output_type": "stream",
     "text": [
      "ERROR: pip's dependency resolver does not currently take into account all the packages that are installed. This behaviour is the source of the following dependency conflicts.\n",
      "conda-repo-cli 1.0.75 requires requests_mock, which is not installed.\n",
      "conda-repo-cli 1.0.75 requires clyent==1.2.1, but you have clyent 1.2.2 which is incompatible.\n",
      "conda-repo-cli 1.0.75 requires nbformat==5.9.2, but you have nbformat 5.10.4 which is incompatible.\n",
      "conda-repo-cli 1.0.75 requires PyYAML==6.0.1, but you have pyyaml 6.0 which is incompatible.\n"
     ]
    }
   ],
   "source": [
    "!pip install plotly\n",
    "!pip install pandas\n",
    "!pip install seaborn\n",
    "!pip install scikit-learn\n",
    "!pip install nbformat --upgrade"
   ]
  },
  {
   "cell_type": "markdown",
   "id": "0f0a88ee",
   "metadata": {
    "papermill": {
     "duration": 0.09487,
     "end_time": "2022-05-03T06:45:11.428649",
     "exception": false,
     "start_time": "2022-05-03T06:45:11.333779",
     "status": "completed"
    },
    "tags": []
   },
   "source": [
    "# Kütüphaneleri import etme.        2"
   ]
  },
  {
   "cell_type": "code",
   "execution_count": 3,
   "id": "5911dd0b",
   "metadata": {
    "_cell_guid": "b1076dfc-b9ad-4769-8c92-a6c4dae69d19",
    "_uuid": "8f2839f25d086af736a60e9eeb907d3b93b6e0e5",
    "execution": {
     "iopub.execute_input": "2022-05-03T06:45:11.631522Z",
     "iopub.status.busy": "2022-05-03T06:45:11.630558Z",
     "iopub.status.idle": "2022-05-03T06:45:21.065085Z",
     "shell.execute_reply": "2022-05-03T06:45:21.064169Z",
     "shell.execute_reply.started": "2022-05-03T04:48:53.209651Z"
    },
    "papermill": {
     "duration": 9.541293,
     "end_time": "2022-05-03T06:45:21.065248",
     "exception": false,
     "start_time": "2022-05-03T06:45:11.523955",
     "status": "completed"
    },
    "tags": []
   },
   "outputs": [
    {
     "name": "stdout",
     "output_type": "stream",
     "text": [
      "WARNING:tensorflow:From c:\\Users\\Bilgehan\\anaconda3\\Lib\\site-packages\\keras\\src\\losses.py:2976: The name tf.losses.sparse_softmax_cross_entropy is deprecated. Please use tf.compat.v1.losses.sparse_softmax_cross_entropy instead.\n",
      "\n"
     ]
    }
   ],
   "source": [
    "import numpy as np                                                                                               # NumPy, sayısal işlemler için kullanılır.\n",
    "import pandas as pd                                                                                              # Pandas, veri analizi ve işlemleri için kullanılır. \n",
    "import io                                                                                                        # IO, (Input/Output) işlemleri için kullanılır.\n",
    "import os                                                                                                        # os, İşletim sistemi işlemleri için kullanılır.\n",
    "\n",
    "from PIL import Image                                                                                            # PIL, Python Image Library, görüntü işlemleri için kullanılır.\n",
    "from glob import glob                                                                                            # Dosya yollarını almak için kullanılır.\n",
    "import itertools                                                                                                 # İterasyon işlemleri için kullanılır.\n",
    "import plotly.graph_objects as go                                                                                # Interaktif grafikler oluşturmak için kullanılır.\n",
    "from plotly.subplots import make_subplots                                                                        # Alt grafikler oluşturmak için kullanılır.\n",
    "import plotly.express as px                                                                                      # Hızlı görselleştirmeler oluşturmak için kullanılır.\n",
    "import matplotlib.pyplot as plt                                                                                  # Grafikler oluşturmak için kullanılır.   \n",
    "\n",
    "import seaborn as sns                                                                                            # Veri görselleştirmek için kullanılır.\n",
    "import tensorflow as tf                                                                                          # Tensorflow, makine öğrenimi ve derin öğrenme kütüphanesidir.\n",
    "from tensorflow.keras.preprocessing.image import ImageDataGenerator                                              # Görüntü verilerini işlemek için kullanılır.\n",
    "from tensorflow.keras.models import Sequential                                                                   # Ardışık (Sequential) model oluşturmak için kullanılır.\n",
    "from tensorflow.keras.layers import Conv2D, Flatten, BatchNormalization, Dropout, Dense, MaxPool2D               # Sinir ağı katmanları için kullanılır.\n",
    "from tensorflow.keras.callbacks import ReduceLROnPlateau, EarlyStopping                                          # Eğitim sırasında çağrılacak işlevler için kullanılır.\n",
    "\n",
    "from sklearn.model_selection import train_test_split                                                             # Veri setini eğitim ve test olarak ayırmak için kullanılır.\n",
    "from sklearn.metrics import classification_report, confusion_matrix                                              # Sınıflandırma raporu ve karışıklık matrisi oluşturmak için kullanılır.\n",
    "\n",
    "from IPython.display import display                                                                              # IPython içinde görüntü göstermek için kullanılır.\n",
    "\n",
    "from IPython.core.interactiveshell import InteractiveShell                                                       # IPython için etkileşimli kabuk ayarlarını düzenlemek için kullanılır.\n",
    "\n",
    "InteractiveShell.ast_node_interactivity = \"all\""
   ]
  },
  {
   "cell_type": "markdown",
   "id": "d88fefaf",
   "metadata": {
    "papermill": {
     "duration": 0.053646,
     "end_time": "2022-05-03T06:45:21.174287",
     "exception": false,
     "start_time": "2022-05-03T06:45:21.120641",
     "status": "completed"
    },
    "tags": []
   },
   "source": [
    "# Eğitim ve test veri setlerini hazırlama   3\n",
    "\n"
   ]
  },
  {
   "cell_type": "code",
   "execution_count": 4,
   "id": "e3f1920d",
   "metadata": {
    "execution": {
     "iopub.execute_input": "2022-05-03T06:45:21.293502Z",
     "iopub.status.busy": "2022-05-03T06:45:21.292445Z",
     "iopub.status.idle": "2022-05-03T06:45:21.295089Z",
     "shell.execute_reply": "2022-05-03T06:45:21.295587Z",
     "shell.execute_reply.started": "2022-05-03T04:49:01.148671Z"
    },
    "papermill": {
     "duration": 0.067937,
     "end_time": "2022-05-03T06:45:21.295742",
     "exception": false,
     "start_time": "2022-05-03T06:45:21.227805",
     "status": "completed"
    },
    "tags": []
   },
   "outputs": [],
   "source": [
    "def prepare_for_train_test(X, Y):\n",
    "\n",
    "    X_train, X_test, Y_train, Y_test = train_test_split(X, Y, test_size=0.2, random_state=42)  # %20'si test seti olarak kullanılacak.\n",
    "    \n",
    "    train_datagen = ImageDataGenerator(                        # ImageDataGenerator sınıfı kullanılarak veri arttırımı uygulamak için bir train_datagen nesnesi oluşturur.\n",
    "                                  rescale = 1./255,            # Yeniden ölçeklendir.\n",
    "                                  rotation_range = 10,         # Dönme açısı belirler.\n",
    "                                  width_shift_range = 0.2,     # Görüntüyü yatayda kaydırır.\n",
    "                                  height_shift_range = 0.2,    # Görüntüyü dikeyde kaydırır.\n",
    "                                  shear_range = 0.2,           # Görüntüyü kesme etkisi uygulama aralığını belirler.\n",
    "                                  horizontal_flip = True,      # Görüntüleri yatayda rastgele çevirir.\n",
    "                                  vertical_flip = True,        # Görüntüleri dikeyde rastgele çevirir.\n",
    "                                  fill_mode = 'nearest')       # Yeniden boyutlandırma ve döndürme işlemlerinde boş pixelleri en yakınındaki pixel ile doldurur.\n",
    "    train_datagen.fit(X_train)                                 # train_datagen nesnesini, eğitim veri setine dönüşümler uygulanabilir şekilde uyumlu hale getirir.\n",
    "    \n",
    "    test_datagen = ImageDataGenerator(                         # Test veri seti için ImageDataGenerator nesnesi oluşturur.\n",
    "                                  rescale = 1./255)            # Sadece yeniden ölçeklendirme yapılır çünkü test veri seti doğrulama amaçlı olduğu için orjinal haliyle kullanılır.\n",
    "    \n",
    "    test_datagen.fit(X_test)                                   # train_datagen nesnesini test veri setine uyumlu hale getirir.\n",
    "    \n",
    "    return X_train, X_test, Y_train, Y_test                    # test ve eğitim setlerini döndürür."
   ]
  },
  {
   "cell_type": "markdown",
   "id": "6eae64ce",
   "metadata": {
    "papermill": {
     "duration": 0.052409,
     "end_time": "2022-05-03T06:45:21.419720",
     "exception": false,
     "start_time": "2022-05-03T06:45:21.367311",
     "status": "completed"
    },
    "tags": []
   },
   "source": [
    "# Model Hazırlama                                       4\n",
    "# Convolutional Neural Network - (CNN) oluşturma."
   ]
  },
  {
   "cell_type": "code",
   "execution_count": 5,
   "id": "f3db35d4",
   "metadata": {
    "execution": {
     "iopub.execute_input": "2022-05-03T06:45:21.538528Z",
     "iopub.status.busy": "2022-05-03T06:45:21.537445Z",
     "iopub.status.idle": "2022-05-03T06:45:21.540167Z",
     "shell.execute_reply": "2022-05-03T06:45:21.540664Z",
     "shell.execute_reply.started": "2022-05-03T04:49:01.159012Z"
    },
    "papermill": {
     "duration": 0.067997,
     "end_time": "2022-05-03T06:45:21.540860",
     "exception": false,
     "start_time": "2022-05-03T06:45:21.472863",
     "status": "completed"
    },
    "tags": []
   },
   "outputs": [],
   "source": [
    "def create_model():\n",
    "    model = Sequential()  # Yeni bir keras modeli oluşturma.\n",
    "\n",
    "    # model.add(Conv2D(Kaç adet filtre kullanılacak, Her bir filtre için A X A 'lık bir pencere, (A X B X C) ilk ikisi girdi verisinin boyutu C ise kaç kanallı \n",
    "    # olacağı örneğin 3 ise (RGB), Activation fonksiyonunu belirtir, Özellik haritası boyutuyla giriş boyutu arasındaki ilişki))\n",
    "\n",
    "\n",
    "\n",
    "    model.add(Conv2D(16, kernel_size = (3,3), input_shape = (28, 28, 3), activation = 'relu', padding = 'same'))  # Evrişim katmanı ekler. 3X3'lük 16 filtre kullanılır.\n",
    "    model.add(MaxPool2D(pool_size = (2,2)))                                                                       # Max pooling katmanını ekler. Özellik haritasını küçültür.\n",
    "\n",
    "    model.add(Conv2D(32, kernel_size = (3,3), activation = 'relu', padding = 'same'))                             # Evrişim katmanı ekler. 3X3'lük 32 filtre kullanılır.\n",
    "    model.add(MaxPool2D(pool_size = (2,2), padding = 'same'))                                                     # Max pooling katmanını ekler. Özellik haritasını küçültür.\n",
    "\n",
    "    model.add(Conv2D(64, kernel_size = (3,3), activation = 'relu', padding = 'same'))                             # Evrişim katmanı ekler. 3X3'lük 64 filtre kullanılır.\n",
    "    model.add(MaxPool2D(pool_size = (2,2), padding = 'same'))                                                     # Max pooling katmanını ekler. Özellik haritasını küçültür.\n",
    "    \n",
    "    model.add(Conv2D(128, kernel_size = (3,3), activation = 'relu', padding = 'same'))                            # Evrişim katmanı ekler. 3X3'lük 128 filtre kullanılır.\n",
    "    model.add(MaxPool2D(pool_size = (2,2), padding = 'same'))                                                     # Max pooling katmanını ekler. Özellik haritasını küçültür.\n",
    "\n",
    "    model.add(Flatten())                                    # Evrişim ve havuzlama katmanlarından gelen özellik haritasını tek boyutlu bir vektöre dönüştürür.\n",
    "    model.add(Dense(64, activation = 'relu'))               # İlk tam bağlantılı katmanı ekler ve 64 nöron içerir. ReLu activasyon fonksiyonunu kullanır.\n",
    "    model.add(Dense(32, activation='relu'))                 # İkinci tam bağlantılı katmanı ekler ve 32 nöron içerir. ReLu activasyon fonksiyonunu kullanır.\n",
    "    model.add(Dense(7, activation='softmax'))               # Çıkış katmanıdır ve 7 nöron içerir. Çünkü model \"7\" sınıflı bir sınıflandırma problemi için tasarlanıyor.\n",
    "\n",
    "    optimizer = tf.keras.optimizers.Adam(learning_rate = 0.001)\n",
    "\n",
    "    model.compile(loss = 'sparse_categorical_crossentropy',     # Kayıp fonksiyonunu belirtir.\n",
    "                 optimizer = optimizer,\n",
    "                  metrics = ['accuracy'])                       # Modelin performansını değerlendirmek için hangi metrikler kullanılacak.\n",
    "    print(model.summary())                                      # özeti yazdır.\n",
    "    return model;                                               # modeli döndür.\n"
   ]
  },
  {
   "cell_type": "markdown",
   "id": "645e7035",
   "metadata": {
    "papermill": {
     "duration": 0.053335,
     "end_time": "2022-05-03T06:45:21.648496",
     "exception": false,
     "start_time": "2022-05-03T06:45:21.595161",
     "status": "completed"
    },
    "tags": []
   },
   "source": [
    "# Eğitim Planını Hazırlama      5\n"
   ]
  },
  {
   "cell_type": "code",
   "execution_count": 6,
   "id": "638afcd3",
   "metadata": {
    "execution": {
     "iopub.execute_input": "2022-05-03T06:45:21.765019Z",
     "iopub.status.busy": "2022-05-03T06:45:21.763885Z",
     "iopub.status.idle": "2022-05-03T06:45:21.766558Z",
     "shell.execute_reply": "2022-05-03T06:45:21.767153Z",
     "shell.execute_reply.started": "2022-05-03T04:49:01.175476Z"
    },
    "papermill": {
     "duration": 0.064769,
     "end_time": "2022-05-03T06:45:21.767325",
     "exception": false,
     "start_time": "2022-05-03T06:45:21.702556",
     "status": "completed"
    },
    "tags": []
   },
   "outputs": [],
   "source": [
    "def train_model(model, X_train, Y_train, EPOCHS=25):\n",
    "    early_stop = EarlyStopping(monitor='val_loss', patience=10, verbose=1,               # Overfitting olmasını engeller ve eğitimi durdurur. Herhangi bir iyileşme olmazsa kaç      \n",
    "                           mode='auto')                                                  # epoch sabredeceğini patience ile belirtilir. mode='auto' olması durumunda durma kriteri \n",
    "                                                                                         # val_loss'un azalmasıdır.\n",
    "    \n",
    "    reduce_lr = ReduceLROnPlateau(monitor='val_loss', factor=0.1, patience=3,            # Öğrenme oranını dinamik olarak ayarlar. Öğrenme oranı belirli bir patience boyunca \n",
    "                              verbose=1, mode='auto')                                    # iyileşmezse öğrenme oranını factor kadar azaltır.       \n",
    "                            \n",
    "    history = model.fit(X_train,                                                         # E\n",
    "                        Y_train,                                                         # Ğ\n",
    "                        validation_split=0.2,                                            # İ\n",
    "                        batch_size = 64,                                                 # T\n",
    "                        epochs = EPOCHS,                                                 # İ\n",
    "                        callbacks = [reduce_lr, early_stop])                             # M\n",
    "    return history"
   ]
  },
  {
   "cell_type": "markdown",
   "id": "dacd2997",
   "metadata": {
    "papermill": {
     "duration": 0.054251,
     "end_time": "2022-05-03T06:45:21.874865",
     "exception": false,
     "start_time": "2022-05-03T06:45:21.820614",
     "status": "completed"
    },
    "tags": []
   },
   "source": [
    "# test the model    6"
   ]
  },
  {
   "cell_type": "code",
   "execution_count": 7,
   "id": "704a5f82",
   "metadata": {
    "execution": {
     "iopub.execute_input": "2022-05-03T06:45:21.993499Z",
     "iopub.status.busy": "2022-05-03T06:45:21.992289Z",
     "iopub.status.idle": "2022-05-03T06:45:21.995252Z",
     "shell.execute_reply": "2022-05-03T06:45:21.995808Z",
     "shell.execute_reply.started": "2022-05-03T04:49:01.185598Z"
    },
    "papermill": {
     "duration": 0.066161,
     "end_time": "2022-05-03T06:45:21.995994",
     "exception": false,
     "start_time": "2022-05-03T06:45:21.929833",
     "status": "completed"
    },
    "tags": []
   },
   "outputs": [],
   "source": [
    "def test_model(model, X_test, Y_test):\n",
    "    model_acc = model.evaluate(X_test, Y_test, verbose=0)[1]                            # Test veri setinde modelin performansını değerlendirir.\n",
    "    print(\"Test Accuracy: {:.3f}%\".format(model_acc * 100))                             # Modelin test veri seti üzerinde elde ettiği doğruluk değerini ekrana yazdırır.\n",
    "    y_true = np.array(Y_test)                                                           # Test veri setinin gerçek verilerini bir numpy arrayine çevirir.\n",
    "    y_pred = model.predict(X_test)                                                      # X_test üzerinde tahminlerde bulunur ve olasılık dağılımlarını içeren dizi yapar.\n",
    "    y_pred = np.array(list(map(lambda x: np.argmax(x), y_pred)))                        # Her bir tahmin olasılık dağılımının en yüksek olasılığa sahip sınıfını seçer.\n",
    "   \n",
    "    clr = classification_report(y_true, y_pred, target_names=label_mapping.values())    # classification_report oluşturulur. Bu rapor her bir sınıf için precision, recall, \n",
    "                                                                                        # f1-score ve support metriklerini içeren detaylı bir sınıflandırma performansı içerir.\n",
    "    print(clr)                                                                          # Bu rapor yazdırılır                                                                          \n",
    "    \n",
    "    sample_data = X_test[:15]                                                           # Test veri setinin ilk 15 örneği alınır.\n",
    "    plt.figure(figsize=(22, 12))                                                        #bir matplotlib figürü oluşturur ve boyutlarını belirler.\n",
    "    \n",
    "    \n",
    "    for i in range(15):\n",
    "        plt.subplot(3, 5, i + 1)                                                        # Bu, 3x5'lik bir düzen oluşturarak 15 örneği gösterir.\n",
    "        plt.imshow(sample_data[i])                                                      # Verilen örnekleri görüntüler.\n",
    "        plt.title(label_mapping[y_true[i][0]] + '|' + label_mapping[y_pred[i]])         # Başlıklar oluşturulur.\n",
    "        plt.axis(\"off\")                                                                 # eksenleri kapatır.\n",
    "    \n",
    "    plt.show()                                                                          # Oluşturulan alt çizimleri gösterir."
   ]
  },
  {
   "cell_type": "markdown",
   "id": "b29e291a",
   "metadata": {
    "papermill": {
     "duration": 0.0543,
     "end_time": "2022-05-03T06:45:22.990827",
     "exception": false,
     "start_time": "2022-05-03T06:45:22.936527",
     "status": "completed"
    },
    "tags": []
   },
   "source": [
    "# Veri Setini Okuma 7\n"
   ]
  },
  {
   "cell_type": "code",
   "execution_count": 8,
   "id": "ccc1e12b",
   "metadata": {
    "execution": {
     "iopub.execute_input": "2022-05-03T06:45:23.106106Z",
     "iopub.status.busy": "2022-05-03T06:45:23.105432Z",
     "iopub.status.idle": "2022-05-03T06:45:24.395861Z",
     "shell.execute_reply": "2022-05-03T06:45:24.396572Z",
     "shell.execute_reply.started": "2022-05-03T04:49:01.230962Z"
    },
    "papermill": {
     "duration": 1.352847,
     "end_time": "2022-05-03T06:45:24.396794",
     "exception": false,
     "start_time": "2022-05-03T06:45:23.043947",
     "status": "completed"
    },
    "tags": []
   },
   "outputs": [],
   "source": [
    "base_skin_dir = \"C:/Users/Bilgehan/Downloads/archive (1)\"                                         # Veri setimin bulunduğu konum\n",
    "\n",
    "\n",
    "imageid_path_dict = {                                                                                        \n",
    "    os.path.splitext(os.path.basename(x))[0]: x\n",
    "    for x in glob(os.path.join(base_skin_dir, \"HAM10000_images_part_1\", '*.jpg'))                 # Belirli bir dizindeki dosya isimlerini listelemek için kullanılır.       \n",
    "}\n",
    "\n",
    "lesion_type_dict = {                                                                              # Açıklayıcı metinlere eşleyen bir sözlük oluşturur\n",
    "    'nv': 'Melanocytic nevi (nv)',\n",
    "    'mel': 'Melanoma (mel)',\n",
    "    'bkl': 'Benign keratosis-like lesions (bkl)',\n",
    "    'bcc': 'Basal cell carcinoma (bcc)',\n",
    "    'akiec': 'Actinic keratoses (akiec)',\n",
    "    'vasc': 'Vascular lesions (vasc)',\n",
    "    'df': 'Dermatofibroma (df)'\n",
    "}\n",
    "label_mapping = {\n",
    "    0: 'nv',                                                                                        # Sayısal değerlerle metinsel etiketler arasında bir eşleşme sağlar\n",
    "    1: 'mel',                                                                                       # Örneğin 0 sayısı nv ile eşleşir\n",
    "    2: 'bkl',\n",
    "    3: 'bcc',\n",
    "    4: 'akiec',\n",
    "    5: 'vasc',\n",
    "    6: 'df'\n",
    "}\n",
    "reverse_label_mapping = {value: key for key, value in label_mapping.items()}                        # Buda sözlüğü tersine çevirir ve nv sözcüğü 0 a karşılık gelir\n",
    "    "
   ]
  },
  {
   "cell_type": "code",
   "execution_count": 9,
   "id": "58bed93e",
   "metadata": {
    "execution": {
     "iopub.execute_input": "2022-05-03T06:45:24.508991Z",
     "iopub.status.busy": "2022-05-03T06:45:24.508207Z",
     "iopub.status.idle": "2022-05-03T06:45:24.539030Z",
     "shell.execute_reply": "2022-05-03T06:45:24.539553Z",
     "shell.execute_reply.started": "2022-05-03T04:49:03.602697Z"
    },
    "papermill": {
     "duration": 0.090345,
     "end_time": "2022-05-03T06:45:24.539721",
     "exception": false,
     "start_time": "2022-05-03T06:45:24.449376",
     "status": "completed"
    },
    "tags": []
   },
   "outputs": [
    {
     "data": {
      "text/html": [
       "<div>\n",
       "<style scoped>\n",
       "    .dataframe tbody tr th:only-of-type {\n",
       "        vertical-align: middle;\n",
       "    }\n",
       "\n",
       "    .dataframe tbody tr th {\n",
       "        vertical-align: top;\n",
       "    }\n",
       "\n",
       "    .dataframe thead th {\n",
       "        text-align: right;\n",
       "    }\n",
       "</style>\n",
       "<table border=\"1\" class=\"dataframe\">\n",
       "  <thead>\n",
       "    <tr style=\"text-align: right;\">\n",
       "      <th></th>\n",
       "      <th>lesion_id</th>\n",
       "      <th>image_id</th>\n",
       "      <th>dx</th>\n",
       "      <th>dx_type</th>\n",
       "      <th>age</th>\n",
       "      <th>sex</th>\n",
       "      <th>localization</th>\n",
       "      <th>path</th>\n",
       "      <th>cell_type</th>\n",
       "      <th>cell_type_idx</th>\n",
       "    </tr>\n",
       "  </thead>\n",
       "  <tbody>\n",
       "    <tr>\n",
       "      <th>0</th>\n",
       "      <td>HAM_0000118</td>\n",
       "      <td>ISIC_0027419</td>\n",
       "      <td>bkl</td>\n",
       "      <td>histo</td>\n",
       "      <td>80.0</td>\n",
       "      <td>male</td>\n",
       "      <td>scalp</td>\n",
       "      <td>C:/Users/Bilgehan/Downloads/archive (1)\\HAM100...</td>\n",
       "      <td>Benign keratosis-like lesions (bkl)</td>\n",
       "      <td>2</td>\n",
       "    </tr>\n",
       "    <tr>\n",
       "      <th>1</th>\n",
       "      <td>HAM_0000118</td>\n",
       "      <td>ISIC_0025030</td>\n",
       "      <td>bkl</td>\n",
       "      <td>histo</td>\n",
       "      <td>80.0</td>\n",
       "      <td>male</td>\n",
       "      <td>scalp</td>\n",
       "      <td>C:/Users/Bilgehan/Downloads/archive (1)\\HAM100...</td>\n",
       "      <td>Benign keratosis-like lesions (bkl)</td>\n",
       "      <td>2</td>\n",
       "    </tr>\n",
       "    <tr>\n",
       "      <th>2</th>\n",
       "      <td>HAM_0002730</td>\n",
       "      <td>ISIC_0026769</td>\n",
       "      <td>bkl</td>\n",
       "      <td>histo</td>\n",
       "      <td>80.0</td>\n",
       "      <td>male</td>\n",
       "      <td>scalp</td>\n",
       "      <td>C:/Users/Bilgehan/Downloads/archive (1)\\HAM100...</td>\n",
       "      <td>Benign keratosis-like lesions (bkl)</td>\n",
       "      <td>2</td>\n",
       "    </tr>\n",
       "    <tr>\n",
       "      <th>3</th>\n",
       "      <td>HAM_0002730</td>\n",
       "      <td>ISIC_0025661</td>\n",
       "      <td>bkl</td>\n",
       "      <td>histo</td>\n",
       "      <td>80.0</td>\n",
       "      <td>male</td>\n",
       "      <td>scalp</td>\n",
       "      <td>C:/Users/Bilgehan/Downloads/archive (1)\\HAM100...</td>\n",
       "      <td>Benign keratosis-like lesions (bkl)</td>\n",
       "      <td>2</td>\n",
       "    </tr>\n",
       "    <tr>\n",
       "      <th>4</th>\n",
       "      <td>HAM_0001466</td>\n",
       "      <td>ISIC_0031633</td>\n",
       "      <td>bkl</td>\n",
       "      <td>histo</td>\n",
       "      <td>75.0</td>\n",
       "      <td>male</td>\n",
       "      <td>ear</td>\n",
       "      <td>C:/Users/Bilgehan/Downloads/archive (1)\\HAM100...</td>\n",
       "      <td>Benign keratosis-like lesions (bkl)</td>\n",
       "      <td>2</td>\n",
       "    </tr>\n",
       "    <tr>\n",
       "      <th>5</th>\n",
       "      <td>HAM_0001466</td>\n",
       "      <td>ISIC_0027850</td>\n",
       "      <td>bkl</td>\n",
       "      <td>histo</td>\n",
       "      <td>75.0</td>\n",
       "      <td>male</td>\n",
       "      <td>ear</td>\n",
       "      <td>C:/Users/Bilgehan/Downloads/archive (1)\\HAM100...</td>\n",
       "      <td>Benign keratosis-like lesions (bkl)</td>\n",
       "      <td>2</td>\n",
       "    </tr>\n",
       "  </tbody>\n",
       "</table>\n",
       "</div>"
      ],
      "text/plain": [
       "     lesion_id      image_id   dx dx_type   age   sex localization  \\\n",
       "0  HAM_0000118  ISIC_0027419  bkl   histo  80.0  male        scalp   \n",
       "1  HAM_0000118  ISIC_0025030  bkl   histo  80.0  male        scalp   \n",
       "2  HAM_0002730  ISIC_0026769  bkl   histo  80.0  male        scalp   \n",
       "3  HAM_0002730  ISIC_0025661  bkl   histo  80.0  male        scalp   \n",
       "4  HAM_0001466  ISIC_0031633  bkl   histo  75.0  male          ear   \n",
       "5  HAM_0001466  ISIC_0027850  bkl   histo  75.0  male          ear   \n",
       "\n",
       "                                                path  \\\n",
       "0  C:/Users/Bilgehan/Downloads/archive (1)\\HAM100...   \n",
       "1  C:/Users/Bilgehan/Downloads/archive (1)\\HAM100...   \n",
       "2  C:/Users/Bilgehan/Downloads/archive (1)\\HAM100...   \n",
       "3  C:/Users/Bilgehan/Downloads/archive (1)\\HAM100...   \n",
       "4  C:/Users/Bilgehan/Downloads/archive (1)\\HAM100...   \n",
       "5  C:/Users/Bilgehan/Downloads/archive (1)\\HAM100...   \n",
       "\n",
       "                             cell_type  cell_type_idx  \n",
       "0  Benign keratosis-like lesions (bkl)              2  \n",
       "1  Benign keratosis-like lesions (bkl)              2  \n",
       "2  Benign keratosis-like lesions (bkl)              2  \n",
       "3  Benign keratosis-like lesions (bkl)              2  \n",
       "4  Benign keratosis-like lesions (bkl)              2  \n",
       "5  Benign keratosis-like lesions (bkl)              2  "
      ]
     },
     "execution_count": 9,
     "metadata": {},
     "output_type": "execute_result"
    }
   ],
   "source": [
    "data = pd.read_csv(os.path.join(base_skin_dir,\"C:/Users/Bilgehan/Downloads/archive (1)/HAM10000_metadata.csv\"))     # Pandas kütüphanesini kullanarak veriyi okur.\n",
    "\n",
    "data['path'] = data['image_id'].map(imageid_path_dict.get)         # 'image_id' sütunundaki değerleri, tam dosya yolunu içeren yeni bir 'path' sütunu oluşturur.           \n",
    "data['cell_type'] = data['dx'].map(lesion_type_dict.get)           # 'dx' sütunundaki değerleri lezyon türlerinin adını içeren yeni bir 'cell_type' sütunu oluşturur.             \n",
    "data['cell_type_idx'] = pd.Categorical(data['cell_type']).codes    # cell_type sütununu kategorik şekilde kodlar,her biri için index oluşturup cell_type_idx sütununa ekler.             \n",
    "\n",
    "data.head(6) # İlk altı veriyi gösterir.\n"
   ]
  },
  {
   "cell_type": "code",
   "execution_count": 10,
   "id": "f478395b",
   "metadata": {
    "execution": {
     "iopub.execute_input": "2022-05-03T06:45:24.789889Z",
     "iopub.status.busy": "2022-05-03T06:45:24.789060Z",
     "iopub.status.idle": "2022-05-03T06:45:24.833145Z",
     "shell.execute_reply": "2022-05-03T06:45:24.833640Z",
     "shell.execute_reply.started": "2022-05-03T04:49:03.655478Z"
    },
    "papermill": {
     "duration": 0.106825,
     "end_time": "2022-05-03T06:45:24.833820",
     "exception": false,
     "start_time": "2022-05-03T06:45:24.726995",
     "status": "completed"
    },
    "tags": []
   },
   "outputs": [
    {
     "data": {
      "text/html": [
       "<div>\n",
       "<style scoped>\n",
       "    .dataframe tbody tr th:only-of-type {\n",
       "        vertical-align: middle;\n",
       "    }\n",
       "\n",
       "    .dataframe tbody tr th {\n",
       "        vertical-align: top;\n",
       "    }\n",
       "\n",
       "    .dataframe thead th {\n",
       "        text-align: right;\n",
       "    }\n",
       "</style>\n",
       "<table border=\"1\" class=\"dataframe\">\n",
       "  <thead>\n",
       "    <tr style=\"text-align: right;\">\n",
       "      <th></th>\n",
       "      <th>lesion_id</th>\n",
       "      <th>image_id</th>\n",
       "      <th>dx</th>\n",
       "      <th>dx_type</th>\n",
       "      <th>sex</th>\n",
       "      <th>localization</th>\n",
       "      <th>path</th>\n",
       "      <th>cell_type</th>\n",
       "    </tr>\n",
       "  </thead>\n",
       "  <tbody>\n",
       "    <tr>\n",
       "      <th>count</th>\n",
       "      <td>10015</td>\n",
       "      <td>10015</td>\n",
       "      <td>10015</td>\n",
       "      <td>10015</td>\n",
       "      <td>10015</td>\n",
       "      <td>10015</td>\n",
       "      <td>10015</td>\n",
       "      <td>10015</td>\n",
       "    </tr>\n",
       "    <tr>\n",
       "      <th>unique</th>\n",
       "      <td>7470</td>\n",
       "      <td>10015</td>\n",
       "      <td>7</td>\n",
       "      <td>4</td>\n",
       "      <td>3</td>\n",
       "      <td>15</td>\n",
       "      <td>10015</td>\n",
       "      <td>7</td>\n",
       "    </tr>\n",
       "    <tr>\n",
       "      <th>top</th>\n",
       "      <td>HAM_0003789</td>\n",
       "      <td>ISIC_0027419</td>\n",
       "      <td>nv</td>\n",
       "      <td>histo</td>\n",
       "      <td>male</td>\n",
       "      <td>back</td>\n",
       "      <td>C:/Users/Bilgehan/Downloads/archive (1)\\HAM100...</td>\n",
       "      <td>Melanocytic nevi (nv)</td>\n",
       "    </tr>\n",
       "    <tr>\n",
       "      <th>freq</th>\n",
       "      <td>6</td>\n",
       "      <td>1</td>\n",
       "      <td>6705</td>\n",
       "      <td>5340</td>\n",
       "      <td>5406</td>\n",
       "      <td>2192</td>\n",
       "      <td>1</td>\n",
       "      <td>6705</td>\n",
       "    </tr>\n",
       "  </tbody>\n",
       "</table>\n",
       "</div>"
      ],
      "text/plain": [
       "          lesion_id      image_id     dx dx_type    sex localization  \\\n",
       "count         10015         10015  10015   10015  10015        10015   \n",
       "unique         7470         10015      7       4      3           15   \n",
       "top     HAM_0003789  ISIC_0027419     nv   histo   male         back   \n",
       "freq              6             1   6705    5340   5406         2192   \n",
       "\n",
       "                                                     path  \\\n",
       "count                                               10015   \n",
       "unique                                              10015   \n",
       "top     C:/Users/Bilgehan/Downloads/archive (1)\\HAM100...   \n",
       "freq                                                    1   \n",
       "\n",
       "                    cell_type  \n",
       "count                   10015  \n",
       "unique                      7  \n",
       "top     Melanocytic nevi (nv)  \n",
       "freq                     6705  "
      ]
     },
     "execution_count": 10,
     "metadata": {},
     "output_type": "execute_result"
    }
   ],
   "source": [
    "data.describe(exclude=[np.number])   # istatistiksel özetler."
   ]
  },
  {
   "cell_type": "code",
   "execution_count": 11,
   "id": "31972804",
   "metadata": {
    "execution": {
     "iopub.execute_input": "2022-05-03T06:45:24.954712Z",
     "iopub.status.busy": "2022-05-03T06:45:24.953701Z",
     "iopub.status.idle": "2022-05-03T06:45:24.960340Z",
     "shell.execute_reply": "2022-05-03T06:45:24.960859Z",
     "shell.execute_reply.started": "2022-05-03T04:49:03.699040Z"
    },
    "papermill": {
     "duration": 0.072993,
     "end_time": "2022-05-03T06:45:24.961037",
     "exception": false,
     "start_time": "2022-05-03T06:45:24.888044",
     "status": "completed"
    },
    "tags": []
   },
   "outputs": [
    {
     "name": "stdout",
     "output_type": "stream",
     "text": [
      "Data setinde toplam eksik değer sayisi =  1\n"
     ]
    }
   ],
   "source": [
    "print (\"Data setinde toplam eksik değer sayisi = \",data.isnull().any().sum())  # Veri setinde kaç tane eksik değer olduğunu döndürür."
   ]
  },
  {
   "cell_type": "markdown",
   "id": "353dfec0",
   "metadata": {
    "papermill": {
     "duration": 0.055214,
     "end_time": "2022-05-03T06:45:25.070906",
     "exception": false,
     "start_time": "2022-05-03T06:45:25.015692",
     "status": "completed"
    },
    "tags": []
   },
   "source": [
    "# Imputing the Null values and preparing the data   8"
   ]
  },
  {
   "cell_type": "code",
   "execution_count": 12,
   "id": "882b6389",
   "metadata": {
    "execution": {
     "iopub.execute_input": "2022-05-03T06:45:25.187136Z",
     "iopub.status.busy": "2022-05-03T06:45:25.185048Z",
     "iopub.status.idle": "2022-05-03T06:45:25.190307Z",
     "shell.execute_reply": "2022-05-03T06:45:25.189672Z",
     "shell.execute_reply.started": "2022-05-03T04:49:03.714513Z"
    },
    "papermill": {
     "duration": 0.065153,
     "end_time": "2022-05-03T06:45:25.190477",
     "exception": false,
     "start_time": "2022-05-03T06:45:25.125324",
     "status": "completed"
    },
    "tags": []
   },
   "outputs": [],
   "source": [
    "\n",
    "data['age'].fillna(value=int(data['age'].mean()), inplace=True)  # yaş sütunundaki boş değerleri yaş ortalaması ile doldurur.\n",
    "\n",
    "data['age'] = data['age'].astype('int32')                        # veri tipini integer yapar."
   ]
  },
  {
   "cell_type": "code",
   "execution_count": 13,
   "id": "285d9d25",
   "metadata": {
    "execution": {
     "iopub.execute_input": "2022-05-03T06:45:25.442789Z",
     "iopub.status.busy": "2022-05-03T06:45:25.441392Z",
     "iopub.status.idle": "2022-05-03T06:45:25.462079Z",
     "shell.execute_reply": "2022-05-03T06:45:25.461034Z",
     "shell.execute_reply.started": "2022-05-03T04:49:03.736340Z"
    },
    "papermill": {
     "duration": 0.09029,
     "end_time": "2022-05-03T06:45:25.462508",
     "exception": false,
     "start_time": "2022-05-03T06:45:25.372218",
     "status": "completed"
    },
    "tags": []
   },
   "outputs": [
    {
     "data": {
      "text/html": [
       "<div>\n",
       "<style scoped>\n",
       "    .dataframe tbody tr th:only-of-type {\n",
       "        vertical-align: middle;\n",
       "    }\n",
       "\n",
       "    .dataframe tbody tr th {\n",
       "        vertical-align: top;\n",
       "    }\n",
       "\n",
       "    .dataframe thead th {\n",
       "        text-align: right;\n",
       "    }\n",
       "</style>\n",
       "<table border=\"1\" class=\"dataframe\">\n",
       "  <thead>\n",
       "    <tr style=\"text-align: right;\">\n",
       "      <th></th>\n",
       "      <th>lesion_id</th>\n",
       "      <th>image_id</th>\n",
       "      <th>dx</th>\n",
       "      <th>dx_type</th>\n",
       "      <th>age</th>\n",
       "      <th>sex</th>\n",
       "      <th>localization</th>\n",
       "      <th>path</th>\n",
       "      <th>cell_type</th>\n",
       "      <th>cell_type_idx</th>\n",
       "    </tr>\n",
       "  </thead>\n",
       "  <tbody>\n",
       "    <tr>\n",
       "      <th>0</th>\n",
       "      <td>HAM_0000118</td>\n",
       "      <td>ISIC_0027419</td>\n",
       "      <td>bkl</td>\n",
       "      <td>histo</td>\n",
       "      <td>80</td>\n",
       "      <td>male</td>\n",
       "      <td>scalp</td>\n",
       "      <td>C:/Users/Bilgehan/Downloads/archive (1)\\HAM100...</td>\n",
       "      <td>Benign keratosis-like lesions (bkl)</td>\n",
       "      <td>2</td>\n",
       "    </tr>\n",
       "    <tr>\n",
       "      <th>1</th>\n",
       "      <td>HAM_0000118</td>\n",
       "      <td>ISIC_0025030</td>\n",
       "      <td>bkl</td>\n",
       "      <td>histo</td>\n",
       "      <td>80</td>\n",
       "      <td>male</td>\n",
       "      <td>scalp</td>\n",
       "      <td>C:/Users/Bilgehan/Downloads/archive (1)\\HAM100...</td>\n",
       "      <td>Benign keratosis-like lesions (bkl)</td>\n",
       "      <td>2</td>\n",
       "    </tr>\n",
       "    <tr>\n",
       "      <th>2</th>\n",
       "      <td>HAM_0002730</td>\n",
       "      <td>ISIC_0026769</td>\n",
       "      <td>bkl</td>\n",
       "      <td>histo</td>\n",
       "      <td>80</td>\n",
       "      <td>male</td>\n",
       "      <td>scalp</td>\n",
       "      <td>C:/Users/Bilgehan/Downloads/archive (1)\\HAM100...</td>\n",
       "      <td>Benign keratosis-like lesions (bkl)</td>\n",
       "      <td>2</td>\n",
       "    </tr>\n",
       "    <tr>\n",
       "      <th>3</th>\n",
       "      <td>HAM_0002730</td>\n",
       "      <td>ISIC_0025661</td>\n",
       "      <td>bkl</td>\n",
       "      <td>histo</td>\n",
       "      <td>80</td>\n",
       "      <td>male</td>\n",
       "      <td>scalp</td>\n",
       "      <td>C:/Users/Bilgehan/Downloads/archive (1)\\HAM100...</td>\n",
       "      <td>Benign keratosis-like lesions (bkl)</td>\n",
       "      <td>2</td>\n",
       "    </tr>\n",
       "    <tr>\n",
       "      <th>4</th>\n",
       "      <td>HAM_0001466</td>\n",
       "      <td>ISIC_0031633</td>\n",
       "      <td>bkl</td>\n",
       "      <td>histo</td>\n",
       "      <td>75</td>\n",
       "      <td>male</td>\n",
       "      <td>ear</td>\n",
       "      <td>C:/Users/Bilgehan/Downloads/archive (1)\\HAM100...</td>\n",
       "      <td>Benign keratosis-like lesions (bkl)</td>\n",
       "      <td>2</td>\n",
       "    </tr>\n",
       "  </tbody>\n",
       "</table>\n",
       "</div>"
      ],
      "text/plain": [
       "     lesion_id      image_id   dx dx_type  age   sex localization  \\\n",
       "0  HAM_0000118  ISIC_0027419  bkl   histo   80  male        scalp   \n",
       "1  HAM_0000118  ISIC_0025030  bkl   histo   80  male        scalp   \n",
       "2  HAM_0002730  ISIC_0026769  bkl   histo   80  male        scalp   \n",
       "3  HAM_0002730  ISIC_0025661  bkl   histo   80  male        scalp   \n",
       "4  HAM_0001466  ISIC_0031633  bkl   histo   75  male          ear   \n",
       "\n",
       "                                                path  \\\n",
       "0  C:/Users/Bilgehan/Downloads/archive (1)\\HAM100...   \n",
       "1  C:/Users/Bilgehan/Downloads/archive (1)\\HAM100...   \n",
       "2  C:/Users/Bilgehan/Downloads/archive (1)\\HAM100...   \n",
       "3  C:/Users/Bilgehan/Downloads/archive (1)\\HAM100...   \n",
       "4  C:/Users/Bilgehan/Downloads/archive (1)\\HAM100...   \n",
       "\n",
       "                             cell_type  cell_type_idx  \n",
       "0  Benign keratosis-like lesions (bkl)              2  \n",
       "1  Benign keratosis-like lesions (bkl)              2  \n",
       "2  Benign keratosis-like lesions (bkl)              2  \n",
       "3  Benign keratosis-like lesions (bkl)              2  \n",
       "4  Benign keratosis-like lesions (bkl)              2  "
      ]
     },
     "execution_count": 13,
     "metadata": {},
     "output_type": "execute_result"
    }
   ],
   "source": [
    "data.head()     # ilk 5 değeri döndürür.\n"
   ]
  },
  {
   "cell_type": "code",
   "execution_count": 14,
   "id": "d3815d2d",
   "metadata": {
    "execution": {
     "iopub.execute_input": "2022-05-03T06:45:25.596242Z",
     "iopub.status.busy": "2022-05-03T06:45:25.595575Z",
     "iopub.status.idle": "2022-05-03T06:49:08.850160Z",
     "shell.execute_reply": "2022-05-03T06:49:08.849161Z",
     "shell.execute_reply.started": "2022-05-03T04:49:03.752339Z"
    },
    "papermill": {
     "duration": 223.316985,
     "end_time": "2022-05-03T06:49:08.850317",
     "exception": false,
     "start_time": "2022-05-03T06:45:25.533332",
     "status": "completed"
    },
    "tags": []
   },
   "outputs": [
    {
     "data": {
      "text/html": [
       "<div>\n",
       "<style scoped>\n",
       "    .dataframe tbody tr th:only-of-type {\n",
       "        vertical-align: middle;\n",
       "    }\n",
       "\n",
       "    .dataframe tbody tr th {\n",
       "        vertical-align: top;\n",
       "    }\n",
       "\n",
       "    .dataframe thead th {\n",
       "        text-align: right;\n",
       "    }\n",
       "</style>\n",
       "<table border=\"1\" class=\"dataframe\">\n",
       "  <thead>\n",
       "    <tr style=\"text-align: right;\">\n",
       "      <th></th>\n",
       "      <th>lesion_id</th>\n",
       "      <th>image_id</th>\n",
       "      <th>dx</th>\n",
       "      <th>dx_type</th>\n",
       "      <th>age</th>\n",
       "      <th>sex</th>\n",
       "      <th>localization</th>\n",
       "      <th>path</th>\n",
       "      <th>cell_type</th>\n",
       "      <th>cell_type_idx</th>\n",
       "      <th>image_pixel</th>\n",
       "    </tr>\n",
       "  </thead>\n",
       "  <tbody>\n",
       "    <tr>\n",
       "      <th>0</th>\n",
       "      <td>HAM_0000118</td>\n",
       "      <td>ISIC_0027419</td>\n",
       "      <td>bkl</td>\n",
       "      <td>histo</td>\n",
       "      <td>80</td>\n",
       "      <td>male</td>\n",
       "      <td>scalp</td>\n",
       "      <td>C:/Users/Bilgehan/Downloads/archive (1)\\HAM100...</td>\n",
       "      <td>Benign keratosis-like lesions (bkl)</td>\n",
       "      <td>2</td>\n",
       "      <td>[[[192, 153, 193], [195, 155, 192], [197, 154,...</td>\n",
       "    </tr>\n",
       "    <tr>\n",
       "      <th>1</th>\n",
       "      <td>HAM_0000118</td>\n",
       "      <td>ISIC_0025030</td>\n",
       "      <td>bkl</td>\n",
       "      <td>histo</td>\n",
       "      <td>80</td>\n",
       "      <td>male</td>\n",
       "      <td>scalp</td>\n",
       "      <td>C:/Users/Bilgehan/Downloads/archive (1)\\HAM100...</td>\n",
       "      <td>Benign keratosis-like lesions (bkl)</td>\n",
       "      <td>2</td>\n",
       "      <td>[[[27, 16, 32], [69, 49, 76], [122, 93, 126], ...</td>\n",
       "    </tr>\n",
       "    <tr>\n",
       "      <th>2</th>\n",
       "      <td>HAM_0002730</td>\n",
       "      <td>ISIC_0026769</td>\n",
       "      <td>bkl</td>\n",
       "      <td>histo</td>\n",
       "      <td>80</td>\n",
       "      <td>male</td>\n",
       "      <td>scalp</td>\n",
       "      <td>C:/Users/Bilgehan/Downloads/archive (1)\\HAM100...</td>\n",
       "      <td>Benign keratosis-like lesions (bkl)</td>\n",
       "      <td>2</td>\n",
       "      <td>[[[192, 138, 153], [200, 144, 162], [202, 142,...</td>\n",
       "    </tr>\n",
       "    <tr>\n",
       "      <th>3</th>\n",
       "      <td>HAM_0002730</td>\n",
       "      <td>ISIC_0025661</td>\n",
       "      <td>bkl</td>\n",
       "      <td>histo</td>\n",
       "      <td>80</td>\n",
       "      <td>male</td>\n",
       "      <td>scalp</td>\n",
       "      <td>C:/Users/Bilgehan/Downloads/archive (1)\\HAM100...</td>\n",
       "      <td>Benign keratosis-like lesions (bkl)</td>\n",
       "      <td>2</td>\n",
       "      <td>[[[40, 21, 31], [95, 61, 73], [143, 102, 118],...</td>\n",
       "    </tr>\n",
       "    <tr>\n",
       "      <th>4</th>\n",
       "      <td>HAM_0001466</td>\n",
       "      <td>ISIC_0031633</td>\n",
       "      <td>bkl</td>\n",
       "      <td>histo</td>\n",
       "      <td>75</td>\n",
       "      <td>male</td>\n",
       "      <td>ear</td>\n",
       "      <td>C:/Users/Bilgehan/Downloads/archive (1)\\HAM100...</td>\n",
       "      <td>Benign keratosis-like lesions (bkl)</td>\n",
       "      <td>2</td>\n",
       "      <td>[[[159, 114, 140], [194, 144, 173], [215, 162,...</td>\n",
       "    </tr>\n",
       "  </tbody>\n",
       "</table>\n",
       "</div>"
      ],
      "text/plain": [
       "     lesion_id      image_id   dx dx_type  age   sex localization  \\\n",
       "0  HAM_0000118  ISIC_0027419  bkl   histo   80  male        scalp   \n",
       "1  HAM_0000118  ISIC_0025030  bkl   histo   80  male        scalp   \n",
       "2  HAM_0002730  ISIC_0026769  bkl   histo   80  male        scalp   \n",
       "3  HAM_0002730  ISIC_0025661  bkl   histo   80  male        scalp   \n",
       "4  HAM_0001466  ISIC_0031633  bkl   histo   75  male          ear   \n",
       "\n",
       "                                                path  \\\n",
       "0  C:/Users/Bilgehan/Downloads/archive (1)\\HAM100...   \n",
       "1  C:/Users/Bilgehan/Downloads/archive (1)\\HAM100...   \n",
       "2  C:/Users/Bilgehan/Downloads/archive (1)\\HAM100...   \n",
       "3  C:/Users/Bilgehan/Downloads/archive (1)\\HAM100...   \n",
       "4  C:/Users/Bilgehan/Downloads/archive (1)\\HAM100...   \n",
       "\n",
       "                             cell_type  cell_type_idx  \\\n",
       "0  Benign keratosis-like lesions (bkl)              2   \n",
       "1  Benign keratosis-like lesions (bkl)              2   \n",
       "2  Benign keratosis-like lesions (bkl)              2   \n",
       "3  Benign keratosis-like lesions (bkl)              2   \n",
       "4  Benign keratosis-like lesions (bkl)              2   \n",
       "\n",
       "                                         image_pixel  \n",
       "0  [[[192, 153, 193], [195, 155, 192], [197, 154,...  \n",
       "1  [[[27, 16, 32], [69, 49, 76], [122, 93, 126], ...  \n",
       "2  [[[192, 138, 153], [200, 144, 162], [202, 142,...  \n",
       "3  [[[40, 21, 31], [95, 61, 73], [143, 102, 118],...  \n",
       "4  [[[159, 114, 140], [194, 144, 173], [215, 162,...  "
      ]
     },
     "execution_count": 14,
     "metadata": {},
     "output_type": "execute_result"
    }
   ],
   "source": [
    "data['image_pixel'] = data['path'].map(lambda x: np.asarray(Image.open(x).resize((28,28))))      \n",
    "# path sütunundaki yolları alır ve ilgili fotoğrafı yeniden boyutlandırır.\n",
    "# daha sonra bu görüntünün pixel değerlerini image_pixel adındaki sütuna ekler.\n",
    "\n",
    "data.head(5)        # ilk 5 değeri dönüdür.\n"
   ]
  },
  {
   "cell_type": "code",
   "execution_count": 15,
   "id": "5b1225f0",
   "metadata": {
    "execution": {
     "iopub.execute_input": "2022-05-03T06:49:11.478923Z",
     "iopub.status.busy": "2022-05-03T06:49:11.477740Z",
     "iopub.status.idle": "2022-05-03T06:49:11.487422Z",
     "shell.execute_reply": "2022-05-03T06:49:11.486867Z",
     "shell.execute_reply.started": "2022-05-03T04:52:39.965309Z"
    },
    "papermill": {
     "duration": 0.078968,
     "end_time": "2022-05-03T06:49:11.487561",
     "exception": false,
     "start_time": "2022-05-03T06:49:11.408593",
     "status": "completed"
    },
    "tags": []
   },
   "outputs": [],
   "source": [
    "data['label'] = data['dx'].map(reverse_label_mapping.get)  # 'reverse_label_mapping' sözlüğünü kullanarak sayısaldan metinsel etiketlere dönüştürür ve label sütununa atar\n",
    "\n",
    "data = data.sort_values('label')    #  'label' sütunundaki değerlere göre verileri alfabetik olarak sıralar.\n",
    "data = data.reset_index()           #  indeksler ardışık sayılardan oluşacak şekilde yeniden düzenler."
   ]
  },
  {
   "cell_type": "code",
   "execution_count": 16,
   "id": "3a7ed82e",
   "metadata": {
    "execution": {
     "iopub.execute_input": "2022-05-03T06:49:11.615968Z",
     "iopub.status.busy": "2022-05-03T06:49:11.614925Z",
     "iopub.status.idle": "2022-05-03T06:49:11.709750Z",
     "shell.execute_reply": "2022-05-03T06:49:11.709258Z",
     "shell.execute_reply.started": "2022-05-03T04:52:39.983678Z"
    },
    "papermill": {
     "duration": 0.161554,
     "end_time": "2022-05-03T06:49:11.709929",
     "exception": false,
     "start_time": "2022-05-03T06:49:11.548375",
     "status": "completed"
    },
    "tags": []
   },
   "outputs": [],
   "source": [
    "counter = 0                             # sayaç oluşturma.\n",
    "frames = [data]                         # İlk olarak, frames adlı bir liste oluşturulur ve bu listenin ilk öğesi olarak mevcut 'data' veri çerçevesi eklenir.\n",
    "for i in [4,4,11,17,45,52]:             # Bu döngü lezyon satır sayılarını arttırma işlemi yapar. ilk lezyon sayısını 4 katına çıkarır.                        \n",
    "    counter+=1                                                       # sayacı bir arttır.\n",
    "    index = data[data['label'] == counter].index.values              #'label' sütunundaki sayaç değerine karşılık gelen indeksleri alır.\n",
    "    df_index = data.iloc[int(min(index)):int(max(index)+1)]          #Belirtilen indeksler aralığındaki satırları içeren bir alt veri çerçevesi oluşturur.\n",
    "    df_index = pd.concat([df_index] * i, ignore_index=True)  #pd.concat(), belirtilen veri çerçevesini (df_index) belirtilen sayıda kopyalar ve ardışık bir şekilde birleştirir.\n",
    "    frames.append(df_index)                                  # çoğaltılmış halini ekler.\n",
    "    "
   ]
  },
  {
   "cell_type": "code",
   "execution_count": 17,
   "id": "af809437",
   "metadata": {
    "execution": {
     "iopub.execute_input": "2022-05-03T06:49:11.831129Z",
     "iopub.status.busy": "2022-05-03T06:49:11.830271Z",
     "iopub.status.idle": "2022-05-03T06:49:11.833618Z",
     "shell.execute_reply": "2022-05-03T06:49:11.834193Z",
     "shell.execute_reply.started": "2022-05-03T04:52:40.064986Z"
    },
    "papermill": {
     "duration": 0.066117,
     "end_time": "2022-05-03T06:49:11.834327",
     "exception": false,
     "start_time": "2022-05-03T06:49:11.768210",
     "status": "completed"
    },
    "tags": []
   },
   "outputs": [
    {
     "data": {
      "text/plain": [
       "7"
      ]
     },
     "execution_count": 17,
     "metadata": {},
     "output_type": "execute_result"
    }
   ],
   "source": [
    "len(frames)\n"
   ]
  },
  {
   "cell_type": "code",
   "execution_count": 18,
   "id": "af1c372e",
   "metadata": {
    "execution": {
     "iopub.execute_input": "2022-05-03T06:49:11.955351Z",
     "iopub.status.busy": "2022-05-03T06:49:11.954737Z",
     "iopub.status.idle": "2022-05-03T06:49:11.970089Z",
     "shell.execute_reply": "2022-05-03T06:49:11.969376Z",
     "shell.execute_reply.started": "2022-05-03T04:52:40.072063Z"
    },
    "papermill": {
     "duration": 0.077547,
     "end_time": "2022-05-03T06:49:11.970226",
     "exception": false,
     "start_time": "2022-05-03T06:49:11.892679",
     "status": "completed"
    },
    "tags": []
   },
   "outputs": [],
   "source": [
    "final_data = pd.concat(frames)  # frames listesini final_data adlı veri setine ekleme işlemi"
   ]
  },
  {
   "cell_type": "code",
   "execution_count": 19,
   "id": "020c6c89",
   "metadata": {
    "execution": {
     "iopub.execute_input": "2022-05-03T06:49:12.095646Z",
     "iopub.status.busy": "2022-05-03T06:49:12.094873Z",
     "iopub.status.idle": "2022-05-03T06:49:12.098719Z",
     "shell.execute_reply": "2022-05-03T06:49:12.099632Z",
     "shell.execute_reply.started": "2022-05-03T04:52:40.090669Z"
    },
    "papermill": {
     "duration": 0.071199,
     "end_time": "2022-05-03T06:49:12.099872",
     "exception": false,
     "start_time": "2022-05-03T06:49:12.028673",
     "status": "completed"
    },
    "tags": []
   },
   "outputs": [
    {
     "name": "stdout",
     "output_type": "stream",
     "text": [
      "(10015, 13)\n",
      "(42446, 13)\n"
     ]
    }
   ],
   "source": [
    "print(data.shape)               # shape fonksiyonu data setinin satır ve sütunlarını döndürür.\n",
    "print(final_data.shape) "
   ]
  },
  {
   "cell_type": "code",
   "execution_count": 20,
   "id": "72f5f90c",
   "metadata": {
    "execution": {
     "iopub.execute_input": "2022-05-03T06:49:12.231732Z",
     "iopub.status.busy": "2022-05-03T06:49:12.226842Z",
     "iopub.status.idle": "2022-05-03T06:49:12.258623Z",
     "shell.execute_reply": "2022-05-03T06:49:12.259461Z",
     "shell.execute_reply.started": "2022-05-03T04:52:40.097692Z"
    },
    "papermill": {
     "duration": 0.099697,
     "end_time": "2022-05-03T06:49:12.259732",
     "exception": false,
     "start_time": "2022-05-03T06:49:12.160035",
     "status": "completed"
    },
    "tags": []
   },
   "outputs": [
    {
     "name": "stdout",
     "output_type": "stream",
     "text": [
      "(10015, 28, 28, 3)\n",
      "(10015, 1)\n"
     ]
    }
   ],
   "source": [
    "\n",
    "X_orig = data['image_pixel'].to_numpy()         # X_orig image_pixel sütunundan piksel değerlerini alarak numpy dizileri oluşturur.\n",
    "X_orig = np.stack(X_orig, axis=0)               # Oluşturulan bu dizileri birleştirilir.\n",
    "Y_orig = np.array(data.iloc[:, -1:])            # son sütundaki etiket verilerini alır ver numpy dizisine dönüştürür.\n",
    "\n",
    "\n",
    "print(X_orig.shape)                             # X_orig ve Y_orig dizilerinin boyutları yazdırılır.           \n",
    "print(Y_orig.shape)"
   ]
  },
  {
   "cell_type": "code",
   "execution_count": 21,
   "id": "d6097038",
   "metadata": {
    "execution": {
     "iopub.execute_input": "2022-05-03T06:49:12.415659Z",
     "iopub.status.busy": "2022-05-03T06:49:12.400137Z",
     "iopub.status.idle": "2022-05-03T06:49:12.507533Z",
     "shell.execute_reply": "2022-05-03T06:49:12.506623Z",
     "shell.execute_reply.started": "2022-05-03T04:52:40.132910Z"
    },
    "papermill": {
     "duration": 0.187481,
     "end_time": "2022-05-03T06:49:12.507746",
     "exception": false,
     "start_time": "2022-05-03T06:49:12.320265",
     "status": "completed"
    },
    "tags": []
   },
   "outputs": [
    {
     "name": "stdout",
     "output_type": "stream",
     "text": [
      "(42446, 28, 28, 3)\n",
      "(42446, 1)\n"
     ]
    }
   ],
   "source": [
    "# AUGMENTED DATA\n",
    "\n",
    "X_aug = final_data['image_pixel'].to_numpy()        # X_aug image_pixel sütunundan pixel verilerini alarak numpy dizileri oluşturur.\n",
    "X_aug = np.stack(X_aug, axis=0)                     # Oluşturulan bu dizileri birleştirilir.\n",
    "Y_aug = np.array(final_data.iloc[:, -1:])           # son sütundaki etiket verilerini alır ver numpy dizisine dönüştürür.\n",
    "\n",
    "\n",
    "print(X_aug.shape)                                  # X_aug ve Y_aug dizilerinin boyutları yazdırılır.          \n",
    "print(Y_aug.shape)"
   ]
  },
  {
   "cell_type": "code",
   "execution_count": 22,
   "id": "ce9d5f52",
   "metadata": {
    "execution": {
     "iopub.execute_input": "2022-05-03T06:49:12.634504Z",
     "iopub.status.busy": "2022-05-03T06:49:12.633194Z",
     "iopub.status.idle": "2022-05-03T06:49:12.722470Z",
     "shell.execute_reply": "2022-05-03T06:49:12.721920Z",
     "shell.execute_reply.started": "2022-05-03T04:52:40.242931Z"
    },
    "papermill": {
     "duration": 0.154245,
     "end_time": "2022-05-03T06:49:12.722686",
     "exception": false,
     "start_time": "2022-05-03T06:49:12.568441",
     "status": "completed"
    },
    "tags": []
   },
   "outputs": [],
   "source": [
    "\n",
    "X_train_orig, X_test_orig, Y_train_orig, Y_test_orig = prepare_for_train_test(X_orig, Y_orig)"
   ]
  },
  {
   "cell_type": "code",
   "execution_count": 23,
   "id": "09ffd1e5",
   "metadata": {
    "execution": {
     "iopub.execute_input": "2022-05-03T06:49:12.845957Z",
     "iopub.status.busy": "2022-05-03T06:49:12.845261Z",
     "iopub.status.idle": "2022-05-03T06:49:15.884224Z",
     "shell.execute_reply": "2022-05-03T06:49:15.883623Z",
     "shell.execute_reply.started": "2022-05-03T04:52:40.324622Z"
    },
    "papermill": {
     "duration": 3.101677,
     "end_time": "2022-05-03T06:49:15.884361",
     "exception": false,
     "start_time": "2022-05-03T06:49:12.782684",
     "status": "completed"
    },
    "tags": []
   },
   "outputs": [
    {
     "name": "stdout",
     "output_type": "stream",
     "text": [
      "WARNING:tensorflow:From c:\\Users\\Bilgehan\\anaconda3\\Lib\\site-packages\\keras\\src\\backend.py:873: The name tf.get_default_graph is deprecated. Please use tf.compat.v1.get_default_graph instead.\n",
      "\n",
      "WARNING:tensorflow:From c:\\Users\\Bilgehan\\anaconda3\\Lib\\site-packages\\keras\\src\\layers\\pooling\\max_pooling2d.py:161: The name tf.nn.max_pool is deprecated. Please use tf.nn.max_pool2d instead.\n",
      "\n",
      "Model: \"sequential\"\n",
      "_________________________________________________________________\n",
      " Layer (type)                Output Shape              Param #   \n",
      "=================================================================\n",
      " conv2d (Conv2D)             (None, 28, 28, 16)        448       \n",
      "                                                                 \n",
      " max_pooling2d (MaxPooling2  (None, 14, 14, 16)        0         \n",
      " D)                                                              \n",
      "                                                                 \n",
      " conv2d_1 (Conv2D)           (None, 14, 14, 32)        4640      \n",
      "                                                                 \n",
      " max_pooling2d_1 (MaxPoolin  (None, 7, 7, 32)          0         \n",
      " g2D)                                                            \n",
      "                                                                 \n",
      " conv2d_2 (Conv2D)           (None, 7, 7, 64)          18496     \n",
      "                                                                 \n",
      " max_pooling2d_2 (MaxPoolin  (None, 4, 4, 64)          0         \n",
      " g2D)                                                            \n",
      "                                                                 \n",
      " conv2d_3 (Conv2D)           (None, 4, 4, 128)         73856     \n",
      "                                                                 \n",
      " max_pooling2d_3 (MaxPoolin  (None, 2, 2, 128)         0         \n",
      " g2D)                                                            \n",
      "                                                                 \n",
      " flatten (Flatten)           (None, 512)               0         \n",
      "                                                                 \n",
      " dense (Dense)               (None, 64)                32832     \n",
      "                                                                 \n",
      " dense_1 (Dense)             (None, 32)                2080      \n",
      "                                                                 \n",
      " dense_2 (Dense)             (None, 7)                 231       \n",
      "                                                                 \n",
      "=================================================================\n",
      "Total params: 132583 (517.90 KB)\n",
      "Trainable params: 132583 (517.90 KB)\n",
      "Non-trainable params: 0 (0.00 Byte)\n",
      "_________________________________________________________________\n",
      "None\n"
     ]
    }
   ],
   "source": [
    "model =create_model()"
   ]
  },
  {
   "cell_type": "code",
   "execution_count": 24,
   "id": "85da75eb",
   "metadata": {
    "execution": {
     "iopub.execute_input": "2022-05-03T06:49:16.017255Z",
     "iopub.status.busy": "2022-05-03T06:49:16.015850Z",
     "iopub.status.idle": "2022-05-03T06:49:16.430616Z",
     "shell.execute_reply": "2022-05-03T06:49:16.430064Z",
     "shell.execute_reply.started": "2022-05-03T04:52:42.695288Z"
    },
    "papermill": {
     "duration": 0.482444,
     "end_time": "2022-05-03T06:49:16.430787",
     "exception": false,
     "start_time": "2022-05-03T06:49:15.948343",
     "status": "completed"
    },
    "tags": []
   },
   "outputs": [],
   "source": [
    "X_train_aug, X_test_aug, Y_train_aug, Y_test_aug = prepare_for_train_test(X_aug, Y_aug)"
   ]
  },
  {
   "cell_type": "code",
   "execution_count": 25,
   "id": "0df8479e",
   "metadata": {
    "execution": {
     "iopub.execute_input": "2022-05-03T06:49:16.561106Z",
     "iopub.status.busy": "2022-05-03T06:49:16.560181Z",
     "iopub.status.idle": "2022-05-03T06:50:44.400439Z",
     "shell.execute_reply": "2022-05-03T06:50:44.399897Z",
     "shell.execute_reply.started": "2022-05-03T04:52:43.039579Z"
    },
    "papermill": {
     "duration": 87.907264,
     "end_time": "2022-05-03T06:50:44.400595",
     "exception": false,
     "start_time": "2022-05-03T06:49:16.493331",
     "status": "completed"
    },
    "tags": []
   },
   "outputs": [
    {
     "name": "stdout",
     "output_type": "stream",
     "text": [
      "Epoch 1/50\n",
      "WARNING:tensorflow:From c:\\Users\\Bilgehan\\anaconda3\\Lib\\site-packages\\keras\\src\\utils\\tf_utils.py:492: The name tf.ragged.RaggedTensorValue is deprecated. Please use tf.compat.v1.ragged.RaggedTensorValue instead.\n",
      "\n",
      "WARNING:tensorflow:From c:\\Users\\Bilgehan\\anaconda3\\Lib\\site-packages\\keras\\src\\engine\\base_layer_utils.py:384: The name tf.executing_eagerly_outside_functions is deprecated. Please use tf.compat.v1.executing_eagerly_outside_functions instead.\n",
      "\n",
      "425/425 [==============================] - 7s 14ms/step - loss: 1.7594 - accuracy: 0.4441 - val_loss: 1.1452 - val_accuracy: 0.5785 - lr: 0.0010\n",
      "Epoch 2/50\n",
      "425/425 [==============================] - 5s 13ms/step - loss: 0.9392 - accuracy: 0.6455 - val_loss: 0.7564 - val_accuracy: 0.7316 - lr: 0.0010\n",
      "Epoch 3/50\n",
      "425/425 [==============================] - 5s 13ms/step - loss: 0.6725 - accuracy: 0.7461 - val_loss: 0.6517 - val_accuracy: 0.7513 - lr: 0.0010\n",
      "Epoch 4/50\n",
      "425/425 [==============================] - 5s 12ms/step - loss: 0.5173 - accuracy: 0.8037 - val_loss: 0.4507 - val_accuracy: 0.8326 - lr: 0.0010\n",
      "Epoch 5/50\n",
      "425/425 [==============================] - 5s 13ms/step - loss: 0.3864 - accuracy: 0.8564 - val_loss: 0.3847 - val_accuracy: 0.8557 - lr: 0.0010\n",
      "Epoch 6/50\n",
      "425/425 [==============================] - 5s 13ms/step - loss: 0.3285 - accuracy: 0.8782 - val_loss: 0.3055 - val_accuracy: 0.8874 - lr: 0.0010\n",
      "Epoch 7/50\n",
      "425/425 [==============================] - 5s 13ms/step - loss: 0.2781 - accuracy: 0.8980 - val_loss: 0.2896 - val_accuracy: 0.8974 - lr: 0.0010\n",
      "Epoch 8/50\n",
      "425/425 [==============================] - 5s 13ms/step - loss: 0.2397 - accuracy: 0.9104 - val_loss: 0.2924 - val_accuracy: 0.8991 - lr: 0.0010\n",
      "Epoch 9/50\n",
      "425/425 [==============================] - 5s 13ms/step - loss: 0.2128 - accuracy: 0.9244 - val_loss: 0.2345 - val_accuracy: 0.9149 - lr: 0.0010\n",
      "Epoch 10/50\n",
      "425/425 [==============================] - 5s 13ms/step - loss: 0.1936 - accuracy: 0.9294 - val_loss: 0.2449 - val_accuracy: 0.9148 - lr: 0.0010\n",
      "Epoch 11/50\n",
      "425/425 [==============================] - 5s 13ms/step - loss: 0.1600 - accuracy: 0.9401 - val_loss: 0.2300 - val_accuracy: 0.9224 - lr: 0.0010\n",
      "Epoch 12/50\n",
      "425/425 [==============================] - 6s 13ms/step - loss: 0.1591 - accuracy: 0.9426 - val_loss: 0.2942 - val_accuracy: 0.8990 - lr: 0.0010\n",
      "Epoch 13/50\n",
      "425/425 [==============================] - 6s 13ms/step - loss: 0.1405 - accuracy: 0.9496 - val_loss: 0.1778 - val_accuracy: 0.9457 - lr: 0.0010\n",
      "Epoch 14/50\n",
      "425/425 [==============================] - 6s 13ms/step - loss: 0.1001 - accuracy: 0.9630 - val_loss: 0.2284 - val_accuracy: 0.9239 - lr: 0.0010\n",
      "Epoch 15/50\n",
      "425/425 [==============================] - 6s 13ms/step - loss: 0.1478 - accuracy: 0.9466 - val_loss: 0.2248 - val_accuracy: 0.9405 - lr: 0.0010\n",
      "Epoch 16/50\n",
      "422/425 [============================>.] - ETA: 0s - loss: 0.1329 - accuracy: 0.9529\n",
      "Epoch 16: ReduceLROnPlateau reducing learning rate to 0.00010000000474974513.\n",
      "425/425 [==============================] - 6s 13ms/step - loss: 0.1336 - accuracy: 0.9526 - val_loss: 0.2057 - val_accuracy: 0.9330 - lr: 0.0010\n",
      "Epoch 17/50\n",
      "425/425 [==============================] - 5s 13ms/step - loss: 0.0412 - accuracy: 0.9881 - val_loss: 0.0923 - val_accuracy: 0.9756 - lr: 1.0000e-04\n",
      "Epoch 18/50\n",
      "425/425 [==============================] - 6s 14ms/step - loss: 0.0191 - accuracy: 0.9962 - val_loss: 0.0855 - val_accuracy: 0.9766 - lr: 1.0000e-04\n",
      "Epoch 19/50\n",
      "425/425 [==============================] - 6s 14ms/step - loss: 0.0134 - accuracy: 0.9979 - val_loss: 0.0854 - val_accuracy: 0.9776 - lr: 1.0000e-04\n",
      "Epoch 20/50\n",
      "425/425 [==============================] - 6s 13ms/step - loss: 0.0100 - accuracy: 0.9985 - val_loss: 0.0812 - val_accuracy: 0.9800 - lr: 1.0000e-04\n",
      "Epoch 21/50\n",
      "425/425 [==============================] - 5s 13ms/step - loss: 0.0076 - accuracy: 0.9990 - val_loss: 0.0815 - val_accuracy: 0.9803 - lr: 1.0000e-04\n",
      "Epoch 22/50\n",
      "425/425 [==============================] - 5s 13ms/step - loss: 0.0057 - accuracy: 0.9994 - val_loss: 0.0886 - val_accuracy: 0.9792 - lr: 1.0000e-04\n",
      "Epoch 23/50\n",
      "421/425 [============================>.] - ETA: 0s - loss: 0.0043 - accuracy: 0.9995\n",
      "Epoch 23: ReduceLROnPlateau reducing learning rate to 1.0000000474974514e-05.\n",
      "425/425 [==============================] - 5s 13ms/step - loss: 0.0043 - accuracy: 0.9995 - val_loss: 0.0874 - val_accuracy: 0.9797 - lr: 1.0000e-04\n",
      "Epoch 24/50\n",
      "425/425 [==============================] - 5s 13ms/step - loss: 0.0030 - accuracy: 0.9999 - val_loss: 0.0892 - val_accuracy: 0.9794 - lr: 1.0000e-05\n",
      "Epoch 25/50\n",
      "425/425 [==============================] - 5s 13ms/step - loss: 0.0028 - accuracy: 0.9999 - val_loss: 0.0883 - val_accuracy: 0.9798 - lr: 1.0000e-05\n",
      "Epoch 26/50\n",
      "425/425 [==============================] - ETA: 0s - loss: 0.0027 - accuracy: 0.9999\n",
      "Epoch 26: ReduceLROnPlateau reducing learning rate to 1.0000000656873453e-06.\n",
      "425/425 [==============================] - 6s 13ms/step - loss: 0.0027 - accuracy: 0.9999 - val_loss: 0.0888 - val_accuracy: 0.9801 - lr: 1.0000e-05\n",
      "Epoch 27/50\n",
      "425/425 [==============================] - 6s 13ms/step - loss: 0.0025 - accuracy: 1.0000 - val_loss: 0.0888 - val_accuracy: 0.9801 - lr: 1.0000e-06\n",
      "Epoch 28/50\n",
      "425/425 [==============================] - 5s 13ms/step - loss: 0.0025 - accuracy: 1.0000 - val_loss: 0.0885 - val_accuracy: 0.9801 - lr: 1.0000e-06\n",
      "Epoch 29/50\n",
      "425/425 [==============================] - ETA: 0s - loss: 0.0025 - accuracy: 1.0000\n",
      "Epoch 29: ReduceLROnPlateau reducing learning rate to 1.0000001111620805e-07.\n",
      "425/425 [==============================] - 6s 13ms/step - loss: 0.0025 - accuracy: 1.0000 - val_loss: 0.0889 - val_accuracy: 0.9797 - lr: 1.0000e-06\n",
      "Epoch 30/50\n",
      "425/425 [==============================] - 5s 13ms/step - loss: 0.0024 - accuracy: 1.0000 - val_loss: 0.0889 - val_accuracy: 0.9797 - lr: 1.0000e-07\n",
      "Epoch 30: early stopping\n"
     ]
    }
   ],
   "source": [
    "model2_history = train_model(model, X_train_aug, Y_train_aug, 50)"
   ]
  },
  {
   "cell_type": "code",
   "execution_count": 26,
   "id": "dbcd4d9f",
   "metadata": {
    "execution": {
     "iopub.execute_input": "2022-05-03T06:51:47.714568Z",
     "iopub.status.busy": "2022-05-03T06:51:47.713858Z",
     "iopub.status.idle": "2022-05-03T06:51:47.968465Z",
     "shell.execute_reply": "2022-05-03T06:51:47.969003Z",
     "shell.execute_reply.started": "2022-05-03T05:00:59.430570Z"
    },
    "papermill": {
     "duration": 1.215863,
     "end_time": "2022-05-03T06:51:47.969187",
     "exception": false,
     "start_time": "2022-05-03T06:51:46.753324",
     "status": "completed"
    },
    "tags": []
   },
   "outputs": [
    {
     "data": {
      "application/vnd.plotly.v1+json": {
       "config": {
        "plotlyServerURL": "https://plot.ly"
       },
       "data": [
        {
         "name": "train_acc",
         "type": "scatter",
         "xaxis": "x",
         "y": [
          0.4441172182559967,
          0.6454866528511047,
          0.7461345791816711,
          0.8036739826202393,
          0.8563908338546753,
          0.8782211542129517,
          0.8979531526565552,
          0.9103960990905762,
          0.9243851900100708,
          0.9294286370277405,
          0.9401045441627502,
          0.9426078796386719,
          0.9496024250984192,
          0.9630393385887146,
          0.946620523929596,
          0.9526211023330688,
          0.9880724549293518,
          0.9961714148521423,
          0.9979016184806824,
          0.9984906315803528,
          0.9989691972732544,
          0.9993741512298584,
          0.9995214343070984,
          0.9998895525932312,
          0.9999263882637024,
          0.9999263882637024,
          0.9999631643295288,
          0.9999631643295288,
          0.9999631643295288,
          0.9999631643295288
         ],
         "yaxis": "y"
        },
        {
         "name": "val_acc",
         "type": "scatter",
         "xaxis": "x",
         "y": [
          0.5784747004508972,
          0.7315959930419922,
          0.7513250708580017,
          0.8325971961021423,
          0.8557125926017761,
          0.8873674869537354,
          0.8973792791366577,
          0.8991460800170898,
          0.9148998856544495,
          0.9147526621818542,
          0.9224086999893188,
          0.8989987969398499,
          0.9456713795661926,
          0.9238810539245605,
          0.9405182600021362,
          0.9330094456672668,
          0.9755594730377197,
          0.976590096950531,
          0.9776207208633423,
          0.9799764156341553,
          0.9802709221839905,
          0.9792402982711792,
          0.9796819686889648,
          0.9793875217437744,
          0.9798291921615601,
          0.9801236987113953,
          0.9801236987113953,
          0.9801236987113953,
          0.9796819686889648,
          0.9796819686889648
         ],
         "yaxis": "y"
        },
        {
         "name": "train_loss",
         "type": "scatter",
         "xaxis": "x2",
         "y": [
          1.7594444751739502,
          0.9391945600509644,
          0.6725338101387024,
          0.5172794461250305,
          0.3864282965660095,
          0.3285278379917145,
          0.2780884802341461,
          0.23971465229988098,
          0.21280518174171448,
          0.1936267912387848,
          0.16002754867076874,
          0.1591108739376068,
          0.1404528021812439,
          0.10011023283004761,
          0.1478499472141266,
          0.13356947898864746,
          0.041223056614398956,
          0.019094550982117653,
          0.013373342342674732,
          0.010018158704042435,
          0.007555030751973391,
          0.005699868779629469,
          0.004288295283913612,
          0.0030406457372009754,
          0.002799159847199917,
          0.0026530728209763765,
          0.002502517309039831,
          0.0024843907449394464,
          0.0024668704718351364,
          0.002443330129608512
         ],
         "yaxis": "y2"
        },
        {
         "name": "val_loss",
         "type": "scatter",
         "xaxis": "x2",
         "y": [
          1.1451854705810547,
          0.7563772797584534,
          0.6516879796981812,
          0.4506828486919403,
          0.3846592903137207,
          0.3055020868778229,
          0.2896270155906677,
          0.29244691133499146,
          0.2345462143421173,
          0.24486154317855835,
          0.23001371324062347,
          0.2942351996898651,
          0.1777561753988266,
          0.2284325510263443,
          0.22481775283813477,
          0.20572781562805176,
          0.09228312224149704,
          0.08553265035152435,
          0.08538445085287094,
          0.0811854675412178,
          0.08145160228013992,
          0.08856289833784103,
          0.08736458420753479,
          0.0892186090350151,
          0.08830316364765167,
          0.08878464251756668,
          0.08882652223110199,
          0.08848555386066437,
          0.08886199444532394,
          0.0888923853635788
         ],
         "yaxis": "y2"
        }
       ],
       "layout": {
        "annotations": [
         {
          "font": {
           "size": 16
          },
          "showarrow": false,
          "text": "Model Accuracy",
          "x": 0.225,
          "xanchor": "center",
          "xref": "paper",
          "y": 1,
          "yanchor": "bottom",
          "yref": "paper"
         },
         {
          "font": {
           "size": 16
          },
          "showarrow": false,
          "text": "Model Loss",
          "x": 0.775,
          "xanchor": "center",
          "xref": "paper",
          "y": 1,
          "yanchor": "bottom",
          "yref": "paper"
         }
        ],
        "template": {
         "data": {
          "bar": [
           {
            "error_x": {
             "color": "#2a3f5f"
            },
            "error_y": {
             "color": "#2a3f5f"
            },
            "marker": {
             "line": {
              "color": "#E5ECF6",
              "width": 0.5
             },
             "pattern": {
              "fillmode": "overlay",
              "size": 10,
              "solidity": 0.2
             }
            },
            "type": "bar"
           }
          ],
          "barpolar": [
           {
            "marker": {
             "line": {
              "color": "#E5ECF6",
              "width": 0.5
             },
             "pattern": {
              "fillmode": "overlay",
              "size": 10,
              "solidity": 0.2
             }
            },
            "type": "barpolar"
           }
          ],
          "carpet": [
           {
            "aaxis": {
             "endlinecolor": "#2a3f5f",
             "gridcolor": "white",
             "linecolor": "white",
             "minorgridcolor": "white",
             "startlinecolor": "#2a3f5f"
            },
            "baxis": {
             "endlinecolor": "#2a3f5f",
             "gridcolor": "white",
             "linecolor": "white",
             "minorgridcolor": "white",
             "startlinecolor": "#2a3f5f"
            },
            "type": "carpet"
           }
          ],
          "choropleth": [
           {
            "colorbar": {
             "outlinewidth": 0,
             "ticks": ""
            },
            "type": "choropleth"
           }
          ],
          "contour": [
           {
            "colorbar": {
             "outlinewidth": 0,
             "ticks": ""
            },
            "colorscale": [
             [
              0,
              "#0d0887"
             ],
             [
              0.1111111111111111,
              "#46039f"
             ],
             [
              0.2222222222222222,
              "#7201a8"
             ],
             [
              0.3333333333333333,
              "#9c179e"
             ],
             [
              0.4444444444444444,
              "#bd3786"
             ],
             [
              0.5555555555555556,
              "#d8576b"
             ],
             [
              0.6666666666666666,
              "#ed7953"
             ],
             [
              0.7777777777777778,
              "#fb9f3a"
             ],
             [
              0.8888888888888888,
              "#fdca26"
             ],
             [
              1,
              "#f0f921"
             ]
            ],
            "type": "contour"
           }
          ],
          "contourcarpet": [
           {
            "colorbar": {
             "outlinewidth": 0,
             "ticks": ""
            },
            "type": "contourcarpet"
           }
          ],
          "heatmap": [
           {
            "colorbar": {
             "outlinewidth": 0,
             "ticks": ""
            },
            "colorscale": [
             [
              0,
              "#0d0887"
             ],
             [
              0.1111111111111111,
              "#46039f"
             ],
             [
              0.2222222222222222,
              "#7201a8"
             ],
             [
              0.3333333333333333,
              "#9c179e"
             ],
             [
              0.4444444444444444,
              "#bd3786"
             ],
             [
              0.5555555555555556,
              "#d8576b"
             ],
             [
              0.6666666666666666,
              "#ed7953"
             ],
             [
              0.7777777777777778,
              "#fb9f3a"
             ],
             [
              0.8888888888888888,
              "#fdca26"
             ],
             [
              1,
              "#f0f921"
             ]
            ],
            "type": "heatmap"
           }
          ],
          "heatmapgl": [
           {
            "colorbar": {
             "outlinewidth": 0,
             "ticks": ""
            },
            "colorscale": [
             [
              0,
              "#0d0887"
             ],
             [
              0.1111111111111111,
              "#46039f"
             ],
             [
              0.2222222222222222,
              "#7201a8"
             ],
             [
              0.3333333333333333,
              "#9c179e"
             ],
             [
              0.4444444444444444,
              "#bd3786"
             ],
             [
              0.5555555555555556,
              "#d8576b"
             ],
             [
              0.6666666666666666,
              "#ed7953"
             ],
             [
              0.7777777777777778,
              "#fb9f3a"
             ],
             [
              0.8888888888888888,
              "#fdca26"
             ],
             [
              1,
              "#f0f921"
             ]
            ],
            "type": "heatmapgl"
           }
          ],
          "histogram": [
           {
            "marker": {
             "pattern": {
              "fillmode": "overlay",
              "size": 10,
              "solidity": 0.2
             }
            },
            "type": "histogram"
           }
          ],
          "histogram2d": [
           {
            "colorbar": {
             "outlinewidth": 0,
             "ticks": ""
            },
            "colorscale": [
             [
              0,
              "#0d0887"
             ],
             [
              0.1111111111111111,
              "#46039f"
             ],
             [
              0.2222222222222222,
              "#7201a8"
             ],
             [
              0.3333333333333333,
              "#9c179e"
             ],
             [
              0.4444444444444444,
              "#bd3786"
             ],
             [
              0.5555555555555556,
              "#d8576b"
             ],
             [
              0.6666666666666666,
              "#ed7953"
             ],
             [
              0.7777777777777778,
              "#fb9f3a"
             ],
             [
              0.8888888888888888,
              "#fdca26"
             ],
             [
              1,
              "#f0f921"
             ]
            ],
            "type": "histogram2d"
           }
          ],
          "histogram2dcontour": [
           {
            "colorbar": {
             "outlinewidth": 0,
             "ticks": ""
            },
            "colorscale": [
             [
              0,
              "#0d0887"
             ],
             [
              0.1111111111111111,
              "#46039f"
             ],
             [
              0.2222222222222222,
              "#7201a8"
             ],
             [
              0.3333333333333333,
              "#9c179e"
             ],
             [
              0.4444444444444444,
              "#bd3786"
             ],
             [
              0.5555555555555556,
              "#d8576b"
             ],
             [
              0.6666666666666666,
              "#ed7953"
             ],
             [
              0.7777777777777778,
              "#fb9f3a"
             ],
             [
              0.8888888888888888,
              "#fdca26"
             ],
             [
              1,
              "#f0f921"
             ]
            ],
            "type": "histogram2dcontour"
           }
          ],
          "mesh3d": [
           {
            "colorbar": {
             "outlinewidth": 0,
             "ticks": ""
            },
            "type": "mesh3d"
           }
          ],
          "parcoords": [
           {
            "line": {
             "colorbar": {
              "outlinewidth": 0,
              "ticks": ""
             }
            },
            "type": "parcoords"
           }
          ],
          "pie": [
           {
            "automargin": true,
            "type": "pie"
           }
          ],
          "scatter": [
           {
            "fillpattern": {
             "fillmode": "overlay",
             "size": 10,
             "solidity": 0.2
            },
            "type": "scatter"
           }
          ],
          "scatter3d": [
           {
            "line": {
             "colorbar": {
              "outlinewidth": 0,
              "ticks": ""
             }
            },
            "marker": {
             "colorbar": {
              "outlinewidth": 0,
              "ticks": ""
             }
            },
            "type": "scatter3d"
           }
          ],
          "scattercarpet": [
           {
            "marker": {
             "colorbar": {
              "outlinewidth": 0,
              "ticks": ""
             }
            },
            "type": "scattercarpet"
           }
          ],
          "scattergeo": [
           {
            "marker": {
             "colorbar": {
              "outlinewidth": 0,
              "ticks": ""
             }
            },
            "type": "scattergeo"
           }
          ],
          "scattergl": [
           {
            "marker": {
             "colorbar": {
              "outlinewidth": 0,
              "ticks": ""
             }
            },
            "type": "scattergl"
           }
          ],
          "scattermapbox": [
           {
            "marker": {
             "colorbar": {
              "outlinewidth": 0,
              "ticks": ""
             }
            },
            "type": "scattermapbox"
           }
          ],
          "scatterpolar": [
           {
            "marker": {
             "colorbar": {
              "outlinewidth": 0,
              "ticks": ""
             }
            },
            "type": "scatterpolar"
           }
          ],
          "scatterpolargl": [
           {
            "marker": {
             "colorbar": {
              "outlinewidth": 0,
              "ticks": ""
             }
            },
            "type": "scatterpolargl"
           }
          ],
          "scatterternary": [
           {
            "marker": {
             "colorbar": {
              "outlinewidth": 0,
              "ticks": ""
             }
            },
            "type": "scatterternary"
           }
          ],
          "surface": [
           {
            "colorbar": {
             "outlinewidth": 0,
             "ticks": ""
            },
            "colorscale": [
             [
              0,
              "#0d0887"
             ],
             [
              0.1111111111111111,
              "#46039f"
             ],
             [
              0.2222222222222222,
              "#7201a8"
             ],
             [
              0.3333333333333333,
              "#9c179e"
             ],
             [
              0.4444444444444444,
              "#bd3786"
             ],
             [
              0.5555555555555556,
              "#d8576b"
             ],
             [
              0.6666666666666666,
              "#ed7953"
             ],
             [
              0.7777777777777778,
              "#fb9f3a"
             ],
             [
              0.8888888888888888,
              "#fdca26"
             ],
             [
              1,
              "#f0f921"
             ]
            ],
            "type": "surface"
           }
          ],
          "table": [
           {
            "cells": {
             "fill": {
              "color": "#EBF0F8"
             },
             "line": {
              "color": "white"
             }
            },
            "header": {
             "fill": {
              "color": "#C8D4E3"
             },
             "line": {
              "color": "white"
             }
            },
            "type": "table"
           }
          ]
         },
         "layout": {
          "annotationdefaults": {
           "arrowcolor": "#2a3f5f",
           "arrowhead": 0,
           "arrowwidth": 1
          },
          "autotypenumbers": "strict",
          "coloraxis": {
           "colorbar": {
            "outlinewidth": 0,
            "ticks": ""
           }
          },
          "colorscale": {
           "diverging": [
            [
             0,
             "#8e0152"
            ],
            [
             0.1,
             "#c51b7d"
            ],
            [
             0.2,
             "#de77ae"
            ],
            [
             0.3,
             "#f1b6da"
            ],
            [
             0.4,
             "#fde0ef"
            ],
            [
             0.5,
             "#f7f7f7"
            ],
            [
             0.6,
             "#e6f5d0"
            ],
            [
             0.7,
             "#b8e186"
            ],
            [
             0.8,
             "#7fbc41"
            ],
            [
             0.9,
             "#4d9221"
            ],
            [
             1,
             "#276419"
            ]
           ],
           "sequential": [
            [
             0,
             "#0d0887"
            ],
            [
             0.1111111111111111,
             "#46039f"
            ],
            [
             0.2222222222222222,
             "#7201a8"
            ],
            [
             0.3333333333333333,
             "#9c179e"
            ],
            [
             0.4444444444444444,
             "#bd3786"
            ],
            [
             0.5555555555555556,
             "#d8576b"
            ],
            [
             0.6666666666666666,
             "#ed7953"
            ],
            [
             0.7777777777777778,
             "#fb9f3a"
            ],
            [
             0.8888888888888888,
             "#fdca26"
            ],
            [
             1,
             "#f0f921"
            ]
           ],
           "sequentialminus": [
            [
             0,
             "#0d0887"
            ],
            [
             0.1111111111111111,
             "#46039f"
            ],
            [
             0.2222222222222222,
             "#7201a8"
            ],
            [
             0.3333333333333333,
             "#9c179e"
            ],
            [
             0.4444444444444444,
             "#bd3786"
            ],
            [
             0.5555555555555556,
             "#d8576b"
            ],
            [
             0.6666666666666666,
             "#ed7953"
            ],
            [
             0.7777777777777778,
             "#fb9f3a"
            ],
            [
             0.8888888888888888,
             "#fdca26"
            ],
            [
             1,
             "#f0f921"
            ]
           ]
          },
          "colorway": [
           "#636efa",
           "#EF553B",
           "#00cc96",
           "#ab63fa",
           "#FFA15A",
           "#19d3f3",
           "#FF6692",
           "#B6E880",
           "#FF97FF",
           "#FECB52"
          ],
          "font": {
           "color": "#2a3f5f"
          },
          "geo": {
           "bgcolor": "white",
           "lakecolor": "white",
           "landcolor": "#E5ECF6",
           "showlakes": true,
           "showland": true,
           "subunitcolor": "white"
          },
          "hoverlabel": {
           "align": "left"
          },
          "hovermode": "closest",
          "mapbox": {
           "style": "light"
          },
          "paper_bgcolor": "white",
          "plot_bgcolor": "#E5ECF6",
          "polar": {
           "angularaxis": {
            "gridcolor": "white",
            "linecolor": "white",
            "ticks": ""
           },
           "bgcolor": "#E5ECF6",
           "radialaxis": {
            "gridcolor": "white",
            "linecolor": "white",
            "ticks": ""
           }
          },
          "scene": {
           "xaxis": {
            "backgroundcolor": "#E5ECF6",
            "gridcolor": "white",
            "gridwidth": 2,
            "linecolor": "white",
            "showbackground": true,
            "ticks": "",
            "zerolinecolor": "white"
           },
           "yaxis": {
            "backgroundcolor": "#E5ECF6",
            "gridcolor": "white",
            "gridwidth": 2,
            "linecolor": "white",
            "showbackground": true,
            "ticks": "",
            "zerolinecolor": "white"
           },
           "zaxis": {
            "backgroundcolor": "#E5ECF6",
            "gridcolor": "white",
            "gridwidth": 2,
            "linecolor": "white",
            "showbackground": true,
            "ticks": "",
            "zerolinecolor": "white"
           }
          },
          "shapedefaults": {
           "line": {
            "color": "#2a3f5f"
           }
          },
          "ternary": {
           "aaxis": {
            "gridcolor": "white",
            "linecolor": "white",
            "ticks": ""
           },
           "baxis": {
            "gridcolor": "white",
            "linecolor": "white",
            "ticks": ""
           },
           "bgcolor": "#E5ECF6",
           "caxis": {
            "gridcolor": "white",
            "linecolor": "white",
            "ticks": ""
           }
          },
          "title": {
           "x": 0.05
          },
          "xaxis": {
           "automargin": true,
           "gridcolor": "white",
           "linecolor": "white",
           "ticks": "",
           "title": {
            "standoff": 15
           },
           "zerolinecolor": "white",
           "zerolinewidth": 2
          },
          "yaxis": {
           "automargin": true,
           "gridcolor": "white",
           "linecolor": "white",
           "ticks": "",
           "title": {
            "standoff": 15
           },
           "zerolinecolor": "white",
           "zerolinewidth": 2
          }
         }
        },
        "xaxis": {
         "anchor": "y",
         "domain": [
          0,
          0.45
         ]
        },
        "xaxis2": {
         "anchor": "y2",
         "domain": [
          0.55,
          1
         ]
        },
        "yaxis": {
         "anchor": "x",
         "domain": [
          0,
          1
         ]
        },
        "yaxis2": {
         "anchor": "x2",
         "domain": [
          0,
          1
         ]
        }
       }
      }
     },
     "metadata": {},
     "output_type": "display_data"
    }
   ],
   "source": [
    "def plot_model_training_curve(history):                                                                # Bu fonksiyon görsel inceleme için kullanılır.                 \n",
    "    fig = make_subplots(rows=1, cols=2, subplot_titles=['Model Accuracy', 'Model Loss'])\n",
    "    fig.add_trace(\n",
    "        go.Scatter(\n",
    "            y=history.history['accuracy'], \n",
    "            name='train_acc'), \n",
    "        row=1, col=1)\n",
    "    fig.add_trace(\n",
    "        go.Scatter(\n",
    "            y=history.history['val_accuracy'], \n",
    "            name='val_acc'), \n",
    "        row=1, col=1)\n",
    "    fig.add_trace(\n",
    "        go.Scatter(\n",
    "            y=history.history['loss'], \n",
    "            name='train_loss'), \n",
    "        row=1, col=2)\n",
    "    fig.add_trace(\n",
    "        go.Scatter(\n",
    "            y=history.history['val_loss'], \n",
    "            name='val_loss'), \n",
    "        row=1, col=2)\n",
    "    fig.show()\n",
    "\n",
    "    \n",
    "plot_model_training_curve(model2_history)"
   ]
  },
  {
   "cell_type": "code",
   "execution_count": 27,
   "id": "6f8ff6ae",
   "metadata": {
    "execution": {
     "iopub.execute_input": "2022-05-03T06:51:49.282780Z",
     "iopub.status.busy": "2022-05-03T06:51:49.281178Z",
     "iopub.status.idle": "2022-05-03T06:51:50.622772Z",
     "shell.execute_reply": "2022-05-03T06:51:50.621704Z",
     "shell.execute_reply.started": "2022-05-03T05:05:35.303990Z"
    },
    "papermill": {
     "duration": 1.971854,
     "end_time": "2022-05-03T06:51:50.623047",
     "exception": false,
     "start_time": "2022-05-03T06:51:48.651193",
     "status": "completed"
    },
    "tags": []
   },
   "outputs": [
    {
     "name": "stdout",
     "output_type": "stream",
     "text": [
      "Test Accuracy: 97.204%\n",
      "63/63 [==============================] - 0s 4ms/step\n",
      "              precision    recall  f1-score   support\n",
      "\n",
      "          nv       1.00      0.96      0.98      1329\n",
      "         mel       0.88      1.00      0.93       236\n",
      "         bkl       0.93      1.00      0.96       226\n",
      "         bcc       0.98      1.00      0.99       102\n",
      "       akiec       0.98      1.00      0.99        53\n",
      "        vasc       0.87      1.00      0.93        26\n",
      "          df       1.00      1.00      1.00        31\n",
      "\n",
      "    accuracy                           0.97      2003\n",
      "   macro avg       0.95      0.99      0.97      2003\n",
      "weighted avg       0.97      0.97      0.97      2003\n",
      "\n"
     ]
    },
    {
     "data": {
      "image/png": "[encoded data removed]",
      "text/plain": [
       "<Figure size 2200x1200 with 15 Axes>"
      ]
     },
     "metadata": {},
     "output_type": "display_data"
    }
   ],
   "source": [
    "test_model(model, X_test_orig, Y_test_orig)"
   ]
  },
  {
   "cell_type": "code",
   "execution_count": 28,
   "id": "acd44789",
   "metadata": {},
   "outputs": [
    {
     "name": "stdout",
     "output_type": "stream",
     "text": [
      "Test Accuracy: 97.703%\n",
      "266/266 [==============================] - 1s 3ms/step\n",
      "              precision    recall  f1-score   support\n",
      "\n",
      "          nv       0.99      0.87      0.93      1391\n",
      "         mel       0.93      0.99      0.96      1121\n",
      "         bkl       0.94      0.99      0.97      1074\n",
      "         bcc       0.99      1.00      0.99      1248\n",
      "       akiec       0.99      1.00      1.00      1171\n",
      "        vasc       1.00      1.00      1.00      1281\n",
      "          df       1.00      1.00      1.00      1204\n",
      "\n",
      "    accuracy                           0.98      8490\n",
      "   macro avg       0.98      0.98      0.98      8490\n",
      "weighted avg       0.98      0.98      0.98      8490\n",
      "\n"
     ]
    },
    {
     "data": {
      "image/png": "[encoded data removed]",
      "text/plain": [
       "<Figure size 2200x1200 with 15 Axes>"
      ]
     },
     "metadata": {},
     "output_type": "display_data"
    }
   ],
   "source": [
    "test_model(model, X_test_aug, Y_test_aug)"
   ]
  }
 ],
 "metadata": {
  "kernelspec": {
   "display_name": "Python 3",
   "language": "python",
   "name": "python3"
  },
  "language_info": {
   "codemirror_mode": {
    "name": "ipython",
    "version": 3
   },
   "file_extension": ".py",
   "mimetype": "text/x-python",
   "name": "python",
   "nbconvert_exporter": "python",
   "pygments_lexer": "ipython3",
   "version": "3.11.5"
  },
  "papermill": {
   "default_parameters": {},
   "duration": 429.987946,
   "end_time": "2022-05-03T06:51:59.946493",
   "environment_variables": {},
   "exception": null,
   "input_path": "__notebook__.ipynb",
   "output_path": "__notebook__.ipynb",
   "parameters": {},
   "start_time": "2022-05-03T06:44:49.958547",
   "version": "2.3.3"
  }
 },
 "nbformat": 4,
 "nbformat_minor": 5
}
